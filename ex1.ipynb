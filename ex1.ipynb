{
 "cells": [
  {
   "cell_type": "code",
   "execution_count": null,
   "id": "118ec167-c590-4827-871c-c07be6647eb3",
   "metadata": {},
   "outputs": [],
   "source": [
    "import pandas as pd\n",
    "import numpy as np\n",
    "import datetime\n",
    "import networkx as nx\n",
    "from tqdm import tqdm"
   ]
  },
  {
   "cell_type": "markdown",
   "id": "2f69be04-f5ae-4132-a140-03aadfc64194",
   "metadata": {},
   "source": [
    "First of all we decompressed the '.gz' files and then added a row as a header ('from to time')."
   ]
  },
  {
   "cell_type": "code",
   "execution_count": null,
   "id": "ff430917-5fba-4901-8e1e-4a29a3ca6826",
   "metadata": {},
   "outputs": [],
   "source": [
    "#load data\n",
    "answers_to_questions = pd.read_table('answers_to_questions', sep=' ')\n",
    "comments_to_answers = pd.read_table('comments_to_answers', sep=' ')\n",
    "comments_to_questions = pd.read_table('comments_to_questions', sep=' ')"
   ]
  },
  {
   "cell_type": "markdown",
   "id": "4850396a-52d5-4cd9-9665-741bbdfb32cd",
   "metadata": {},
   "source": [
    "Let's just take the data from the first half of 2009."
   ]
  },
  {
   "cell_type": "code",
   "execution_count": null,
   "id": "44cc8bf6-9d92-42fc-bc18-c1d2452a8a04",
   "metadata": {},
   "outputs": [],
   "source": [
    "#create timestamps for the first day of 2009 and the last day of June 2009\n",
    "import time\n",
    "start = '01/01/2009'\n",
    "end = '30/06/2009'\n",
    "start = int(time.mktime(datetime.datetime.strptime(start, \"%d/%m/%Y\").timetuple()))\n",
    "end = int(time.mktime(datetime.datetime.strptime(end, \"%d/%m/%Y\").timetuple()))"
   ]
  },
  {
   "cell_type": "code",
   "execution_count": null,
   "id": "08ac4615-aeee-43eb-bd4c-878bf2fd9735",
   "metadata": {},
   "outputs": [],
   "source": [
    "#take only data from the first half of 2009\n",
    "answers_to_questions = answers_to_questions[(answers_to_questions.time >= start) & (answers_to_questions.time <= end)]\n",
    "comments_to_answers = comments_to_answers[(comments_to_answers.time >= start) & (comments_to_answers.time <= end)]\n",
    "comments_to_questions = comments_to_questions[(comments_to_questions.time >= start) & (comments_to_questions.time <= end)]\n",
    "#reset the index\n",
    "answers_to_questions.reset_index(drop = True, inplace = True)\n",
    "comments_to_answers.reset_index(drop = True, inplace = True)\n",
    "comments_to_questions.reset_index(drop = True, inplace = True)"
   ]
  },
  {
   "cell_type": "code",
   "execution_count": null,
   "id": "7d5786b2-4ae4-4388-aec9-26727ee5251a",
   "metadata": {},
   "outputs": [],
   "source": [
    "#convert timestamps\n",
    "for i in tqdm(range(len(answers_to_questions))):\n",
    "    answers_to_questions.time[i] = datetime.datetime.fromtimestamp(answers_to_questions.time[i]).strftime('%d, %m, %Y')\n",
    "    \n",
    "for i in tqdm(range(len(comments_to_answers))):\n",
    "    comments_to_answers.time[i] = datetime.datetime.fromtimestamp(comments_to_answers.time[i]).strftime('%d, %m, %Y')\n",
    "    \n",
    "for i in tqdm(range(len(comments_to_questions))):\n",
    "    comments_to_questions.time[i] = datetime.datetime.fromtimestamp(comments_to_questions.time[i]).strftime('%d, %m, %Y')"
   ]
  },
  {
   "cell_type": "markdown",
   "id": "de7c1860-bdc2-4c3b-aa67-c7ad7b8f5ee4",
   "metadata": {},
   "source": [
    "Let's create csv files for each graph in order to never run the previous code again."
   ]
  },
  {
   "cell_type": "code",
   "execution_count": null,
   "id": "b4c17f8d-b8c6-465f-8087-3bd3a3ad84e2",
   "metadata": {},
   "outputs": [],
   "source": [
    "answers_to_questions.to_csv('answers_to_questions.csv', index = False)\n",
    "comments_to_answers.to_csv('comments_to_answers.csv', index = False)\n",
    "comments_to_questions.to_csv('comments_to_questions.csv', index = False)"
   ]
  },
  {
   "cell_type": "markdown",
   "id": "aaa4f457-650c-42be-be48-e8a8baba40b5",
   "metadata": {},
   "source": [
    "Read the data!"
   ]
  },
  {
   "cell_type": "code",
   "execution_count": null,
   "id": "f017cefa-845f-4ae8-8abe-7f53b4af7524",
   "metadata": {},
   "outputs": [],
   "source": [
    "answers_to_questions = pd.read_csv('answers_to_questions.csv')\n",
    "comments_to_answers = pd.read_csv('comments_to_answers.csv')\n",
    "comments_to_questions = pd.read_csv('comments_to_questions.csv')"
   ]
  },
  {
   "cell_type": "markdown",
   "id": "fbb41743-5237-4160-8d28-d4155681c450",
   "metadata": {},
   "source": [
    "Each dictionary represents a adjacency list. \n",
    "\n",
    "The dictionary *Graph* represent the merge of the 3 single graphs: for each node *u* there are all the nodes *v* , represented as dictionaries, which answered to a question of node *u*, commented an answer of node *u* or commented a question of node *u*. This graph is directed and self-connections are allowed. Each dictionary represented by the nodes *v* cointains a list of all the dates of the actions.\n",
    "\n",
    "We can think at the dictionary *Graph* as am adjacency list. Moreover each link is weigthed, and the weight is equal to the number of actions taken, which can be calculated by taking the length of the list inside each dictionary *v*."
   ]
  },
  {
   "cell_type": "code",
   "execution_count": null,
   "id": "1adf7a88-99cc-4b96-9c5d-f3a0476cab7d",
   "metadata": {},
   "outputs": [],
   "source": [
    "answers_to_questions_graph = {}\n",
    "\n",
    "for i in tqdm(range(len(answers_to_questions))):\n",
    "    if answers_to_questions['from'][i] not in answers_to_questions_graph:\n",
    "        answers_to_questions_graph[answers_to_questions['from'][i]] = []\n",
    "    answers_to_questions_graph[answers_to_questions['from'][i]].append((answers_to_questions.to[i], answers_to_questions.time[i]))\n",
    "    \n",
    "    \n",
    "supp = {}\n",
    "for key in answers_to_questions_graph.keys():\n",
    "    for i in range(len(answers_to_questions_graph[key])):\n",
    "        if answers_to_questions_graph[key][i][0] not in supp:\n",
    "            supp[answers_to_questions_graph[key][i][0]] = []\n",
    "        supp[answers_to_questions_graph[key][i][0]].append(answers_to_questions_graph[key][i][1])\n",
    "    answers_to_questions_graph[key] = supp"
   ]
  },
  {
   "cell_type": "code",
   "execution_count": null,
   "id": "388d43c3-ef4d-4022-91c1-3f15b2373d77",
   "metadata": {},
   "outputs": [],
   "source": [
    "comments_to_answers_graph = {}\n",
    "\n",
    "for i in tqdm(range(len(comments_to_answers))):\n",
    "    if comments_to_answers['from'][i] not in comments_to_answers_graph:\n",
    "        comments_to_answers_graph[comments_to_answers['from'][i]] = []\n",
    "    comments_to_answers_graph[comments_to_answers['from'][i]].append((comments_to_answers.to[i], comments_to_answers.time[i]))\n",
    "    \n",
    "\n",
    "supp = {}\n",
    "for key in comments_to_answers_graph.keys():\n",
    "    for i in range(len(comments_to_answers_graph[key])):\n",
    "        if comments_to_answers_graph[key][i][0] not in supp:\n",
    "            supp[comments_to_answers_graph[key][i][0]] = []\n",
    "        supp[comments_to_answers_graph[key][i][0]].append(comments_to_answers_graph[key][i][1])\n",
    "    comments_to_answers_graph[key] = supp"
   ]
  },
  {
   "cell_type": "code",
   "execution_count": null,
   "id": "0f025f85-0db4-42cd-b9bb-84d0b5217c8d",
   "metadata": {},
   "outputs": [],
   "source": [
    "comments_to_questions_graph = {}\n",
    "\n",
    "for i in tqdm(range(len(comments_to_questions))):\n",
    "    if comments_to_questions['from'][i] not in comments_to_questions_graph:\n",
    "        comments_to_questions_graph[comments_to_questions['from'][i]] = []\n",
    "    comments_to_questions_graph[comments_to_questions['from'][i]].append((comments_to_questions.to[i], comments_to_questions.time[i]))\n",
    "    \n",
    "\n",
    "supp = {}\n",
    "for key in comments_to_questions_graph.keys():\n",
    "    for i in range(len(comments_to_questions_graph[key])):\n",
    "        if comments_to_questions_graph[key][i][0] not in supp:\n",
    "            supp[comments_to_questions_graph[key][i][0]] = []\n",
    "        supp[comments_to_questions_graph[key][i][0]].append(comments_to_questions_graph[key][i][1])\n",
    "    comments_to_questions_graph[key] = supp"
   ]
  },
  {
   "cell_type": "code",
   "execution_count": null,
   "id": "b24733b2-5b1e-4c6a-a68a-101512cd5ad8",
   "metadata": {},
   "outputs": [],
   "source": [
    "graph = {}\n",
    "\n",
    "for i in tqdm(range(len(answers_to_questions))):\n",
    "    if answers_to_questions['from'][i] not in graph:\n",
    "        graph[answers_to_questions['from'][i]] = []\n",
    "    graph[answers_to_questions['from'][i]].append((answers_to_questions.to[i], answers_to_questions.time[i]))\n",
    "    \n",
    "for i in tqdm(range(len(comments_to_answers))):\n",
    "    if comments_to_answers['from'][i] not in graph:\n",
    "        graph[comments_to_answers['from'][i]] = []\n",
    "    graph[comments_to_answers['from'][i]].append((comments_to_answers.to[i], comments_to_answers.time[i]))\n",
    "    \n",
    "for i in tqdm(range(len(comments_to_questions))):\n",
    "    if comments_to_questions['from'][i] not in graph:\n",
    "        graph[comments_to_questions['from'][i]] = []\n",
    "    graph[comments_to_questions['from'][i]].append((comments_to_questions.to[i], comments_to_questions.time[i]))\n",
    "    \n",
    "    \n",
    "    \n",
    "supp = {}\n",
    "for key in graph.keys():\n",
    "    for i in range(len(graph[key])):\n",
    "        if graph[key][i][0] not in supp:\n",
    "            supp[graph[key][i][0]] = []\n",
    "        supp[graph[key][i][0]].append(graph[key][i][1])\n",
    "    graph[key] = supp"
   ]
  },
  {
   "cell_type": "code",
   "execution_count": null,
   "id": "50d42465-955a-4370-9f68-ffa038bfbe89",
   "metadata": {},
   "outputs": [],
   "source": [
    "comments_to_answers_graph[3381]"
   ]
  },
  {
   "cell_type": "code",
   "execution_count": null,
   "id": "fe1cf9e9-3d13-47aa-96d5-108f604b3cf1",
   "metadata": {},
   "outputs": [],
   "source": []
  }
 ],
 "metadata": {
  "kernelspec": {
   "display_name": "Python 3",
   "language": "python",
   "name": "python3"
  },
  "language_info": {
   "codemirror_mode": {
    "name": "ipython",
    "version": 3
   },
   "file_extension": ".py",
   "mimetype": "text/x-python",
   "name": "python",
   "nbconvert_exporter": "python",
   "pygments_lexer": "ipython3",
   "version": "3.8.8"
  }
 },
 "nbformat": 4,
 "nbformat_minor": 5
}
