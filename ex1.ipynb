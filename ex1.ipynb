{
 "cells": [
  {
   "cell_type": "code",
   "execution_count": 1,
   "id": "118ec167-c590-4827-871c-c07be6647eb3",
   "metadata": {},
   "outputs": [],
   "source": [
    "import pandas as pd\n",
    "import numpy as np\n",
    "import datetime\n",
    "import networkx as nx"
   ]
  },
  {
   "cell_type": "markdown",
   "id": "2f69be04-f5ae-4132-a140-03aadfc64194",
   "metadata": {},
   "source": [
    "First of all we decompressed the '.gz' files and then added a row as a header ('from to time')."
   ]
  },
  {
   "cell_type": "code",
   "execution_count": 53,
   "id": "ff430917-5fba-4901-8e1e-4a29a3ca6826",
   "metadata": {},
   "outputs": [],
   "source": [
    "#load data\n",
    "answers_to_questions = pd.read_table('answers_to_questions', sep=' ')\n",
    "comments_to_answers = pd.read_table('comments_to_answers', sep=' ')\n",
    "comments_to_questions = pd.read_table('comments_to_questions', sep=' ')"
   ]
  },
  {
   "cell_type": "markdown",
   "id": "4850396a-52d5-4cd9-9665-741bbdfb32cd",
   "metadata": {},
   "source": [
    "If you wanna work on a smaller range of time use the code below. For example let's just take the data from 2010."
   ]
  },
  {
   "cell_type": "code",
   "execution_count": 13,
   "id": "44cc8bf6-9d92-42fc-bc18-c1d2452a8a04",
   "metadata": {},
   "outputs": [],
   "source": [
    "#create timestamps for the first and last days of 2010\n",
    "import time\n",
    "start = '01/01/2010'\n",
    "end = '31/12/2010'\n",
    "start = int(time.mktime(datetime.datetime.strptime(start, \"%d/%m/%Y\").timetuple()))\n",
    "end = int(time.mktime(datetime.datetime.strptime(end, \"%d/%m/%Y\").timetuple()))\n",
    "\n",
    "\n",
    "#take only data from the first half of 2009\n",
    "answers_to_questions = answers_to_questions[(answers_to_questions.time >= start) & (answers_to_questions.time <= end)]\n",
    "comments_to_answers = comments_to_answers[(comments_to_answers.time >= start) & (comments_to_answers.time <= end)]\n",
    "comments_to_questions = comments_to_questions[(comments_to_questions.time >= start) & (comments_to_questions.time <= end)]\n",
    "#reset the index\n",
    "answers_to_questions.reset_index(drop = True, inplace = True)\n",
    "comments_to_answers.reset_index(drop = True, inplace = True)\n",
    "comments_to_questions.reset_index(drop = True, inplace = True)"
   ]
  },
  {
   "cell_type": "markdown",
   "id": "4acfcb9d-810a-43fc-9d92-57626efc8127",
   "metadata": {},
   "source": [
    "Let's deal with dates!"
   ]
  },
  {
   "cell_type": "code",
   "execution_count": 54,
   "id": "dc073841-3764-4d20-9ce6-2f6c2eebe162",
   "metadata": {},
   "outputs": [],
   "source": [
    "#convert timestamps\n",
    "answers_to_questions['time'] = answers_to_questions['time'].apply(datetime.datetime.fromtimestamp).astype(str)\n",
    "comments_to_answers['time'] = comments_to_answers['time'].apply(datetime.datetime.fromtimestamp).astype(str)\n",
    "comments_to_questions['time'] = comments_to_questions['time'].apply(datetime.datetime.fromtimestamp).astype(str)\n",
    "\n",
    "#let's just take year, month, day (in this order)\n",
    "answers_to_questions['time'] = answers_to_questions['time'].str[:10]\n",
    "comments_to_answers['time'] = comments_to_answers['time'].str[:10]\n",
    "comments_to_questions['time'] = comments_to_questions['time'].str[:10]"
   ]
  },
  {
   "cell_type": "code",
   "execution_count": 66,
   "id": "9f5ae2de-1dd7-4afc-b70d-c75b42a533a1",
   "metadata": {},
   "outputs": [
    {
     "data": {
      "text/html": [
       "<div>\n",
       "<style scoped>\n",
       "    .dataframe tbody tr th:only-of-type {\n",
       "        vertical-align: middle;\n",
       "    }\n",
       "\n",
       "    .dataframe tbody tr th {\n",
       "        vertical-align: top;\n",
       "    }\n",
       "\n",
       "    .dataframe thead th {\n",
       "        text-align: right;\n",
       "    }\n",
       "</style>\n",
       "<table border=\"1\" class=\"dataframe\">\n",
       "  <thead>\n",
       "    <tr style=\"text-align: right;\">\n",
       "      <th></th>\n",
       "      <th>from</th>\n",
       "      <th>to</th>\n",
       "      <th>time</th>\n",
       "    </tr>\n",
       "  </thead>\n",
       "  <tbody>\n",
       "    <tr>\n",
       "      <th>0</th>\n",
       "      <td>9</td>\n",
       "      <td>8</td>\n",
       "      <td>2008-08-01</td>\n",
       "    </tr>\n",
       "    <tr>\n",
       "      <th>1</th>\n",
       "      <td>1</td>\n",
       "      <td>1</td>\n",
       "      <td>2008-08-01</td>\n",
       "    </tr>\n",
       "    <tr>\n",
       "      <th>2</th>\n",
       "      <td>13</td>\n",
       "      <td>1</td>\n",
       "      <td>2008-08-01</td>\n",
       "    </tr>\n",
       "    <tr>\n",
       "      <th>3</th>\n",
       "      <td>17</td>\n",
       "      <td>1</td>\n",
       "      <td>2008-08-01</td>\n",
       "    </tr>\n",
       "    <tr>\n",
       "      <th>4</th>\n",
       "      <td>48</td>\n",
       "      <td>2</td>\n",
       "      <td>2008-08-01</td>\n",
       "    </tr>\n",
       "  </tbody>\n",
       "</table>\n",
       "</div>"
      ],
      "text/plain": [
       "   from  to        time\n",
       "0     9   8  2008-08-01\n",
       "1     1   1  2008-08-01\n",
       "2    13   1  2008-08-01\n",
       "3    17   1  2008-08-01\n",
       "4    48   2  2008-08-01"
      ]
     },
     "execution_count": 66,
     "metadata": {},
     "output_type": "execute_result"
    }
   ],
   "source": [
    "answers_to_questions.head()"
   ]
  },
  {
   "cell_type": "code",
   "execution_count": 56,
   "id": "0cfdc12a-b369-46b3-a2fb-80bf630f0ef7",
   "metadata": {},
   "outputs": [
    {
     "data": {
      "text/html": [
       "<div>\n",
       "<style scoped>\n",
       "    .dataframe tbody tr th:only-of-type {\n",
       "        vertical-align: middle;\n",
       "    }\n",
       "\n",
       "    .dataframe tbody tr th {\n",
       "        vertical-align: top;\n",
       "    }\n",
       "\n",
       "    .dataframe thead th {\n",
       "        text-align: right;\n",
       "    }\n",
       "</style>\n",
       "<table border=\"1\" class=\"dataframe\">\n",
       "  <thead>\n",
       "    <tr style=\"text-align: right;\">\n",
       "      <th></th>\n",
       "      <th>from</th>\n",
       "      <th>to</th>\n",
       "      <th>time</th>\n",
       "    </tr>\n",
       "  </thead>\n",
       "  <tbody>\n",
       "    <tr>\n",
       "      <th>0</th>\n",
       "      <td>1</td>\n",
       "      <td>91</td>\n",
       "      <td>2008-09-06</td>\n",
       "    </tr>\n",
       "    <tr>\n",
       "      <th>1</th>\n",
       "      <td>3</td>\n",
       "      <td>91</td>\n",
       "      <td>2008-09-06</td>\n",
       "    </tr>\n",
       "    <tr>\n",
       "      <th>2</th>\n",
       "      <td>380</td>\n",
       "      <td>350</td>\n",
       "      <td>2008-09-06</td>\n",
       "    </tr>\n",
       "    <tr>\n",
       "      <th>3</th>\n",
       "      <td>4642</td>\n",
       "      <td>2257</td>\n",
       "      <td>2008-09-06</td>\n",
       "    </tr>\n",
       "    <tr>\n",
       "      <th>4</th>\n",
       "      <td>4642</td>\n",
       "      <td>1324220</td>\n",
       "      <td>2008-09-06</td>\n",
       "    </tr>\n",
       "  </tbody>\n",
       "</table>\n",
       "</div>"
      ],
      "text/plain": [
       "   from       to        time\n",
       "0     1       91  2008-09-06\n",
       "1     3       91  2008-09-06\n",
       "2   380      350  2008-09-06\n",
       "3  4642     2257  2008-09-06\n",
       "4  4642  1324220  2008-09-06"
      ]
     },
     "execution_count": 56,
     "metadata": {},
     "output_type": "execute_result"
    }
   ],
   "source": [
    "comments_to_answers.head()"
   ]
  },
  {
   "cell_type": "code",
   "execution_count": 57,
   "id": "f544f296-5a08-49df-ba83-fe15fabb8085",
   "metadata": {},
   "outputs": [
    {
     "data": {
      "text/html": [
       "<div>\n",
       "<style scoped>\n",
       "    .dataframe tbody tr th:only-of-type {\n",
       "        vertical-align: middle;\n",
       "    }\n",
       "\n",
       "    .dataframe tbody tr th {\n",
       "        vertical-align: top;\n",
       "    }\n",
       "\n",
       "    .dataframe thead th {\n",
       "        text-align: right;\n",
       "    }\n",
       "</style>\n",
       "<table border=\"1\" class=\"dataframe\">\n",
       "  <thead>\n",
       "    <tr style=\"text-align: right;\">\n",
       "      <th></th>\n",
       "      <th>from</th>\n",
       "      <th>to</th>\n",
       "      <th>time</th>\n",
       "    </tr>\n",
       "  </thead>\n",
       "  <tbody>\n",
       "    <tr>\n",
       "      <th>0</th>\n",
       "      <td>4550</td>\n",
       "      <td>4550</td>\n",
       "      <td>2008-09-06</td>\n",
       "    </tr>\n",
       "    <tr>\n",
       "      <th>1</th>\n",
       "      <td>242</td>\n",
       "      <td>184</td>\n",
       "      <td>2008-09-06</td>\n",
       "    </tr>\n",
       "    <tr>\n",
       "      <th>2</th>\n",
       "      <td>4213</td>\n",
       "      <td>4946</td>\n",
       "      <td>2008-09-07</td>\n",
       "    </tr>\n",
       "    <tr>\n",
       "      <th>3</th>\n",
       "      <td>91</td>\n",
       "      <td>91</td>\n",
       "      <td>2008-09-07</td>\n",
       "    </tr>\n",
       "    <tr>\n",
       "      <th>4</th>\n",
       "      <td>2658</td>\n",
       "      <td>1874</td>\n",
       "      <td>2008-09-07</td>\n",
       "    </tr>\n",
       "  </tbody>\n",
       "</table>\n",
       "</div>"
      ],
      "text/plain": [
       "   from    to        time\n",
       "0  4550  4550  2008-09-06\n",
       "1   242   184  2008-09-06\n",
       "2  4213  4946  2008-09-07\n",
       "3    91    91  2008-09-07\n",
       "4  2658  1874  2008-09-07"
      ]
     },
     "execution_count": 57,
     "metadata": {},
     "output_type": "execute_result"
    }
   ],
   "source": [
    "comments_to_questions.head()"
   ]
  },
  {
   "cell_type": "markdown",
   "id": "fbb41743-5237-4160-8d28-d4155681c450",
   "metadata": {},
   "source": [
    "Each dictionary represents a adjacency list. \n",
    "\n",
    "The dictionary *Graph* represent the merge of the 3 single graphs: for each node *u* there are all the nodes *v* , represented as dictionaries, which answered to a question of node *u*, commented an answer of node *u* or commented a question of node *u*. This graph is directed and self-connections are allowed. Each dictionary represented by the nodes *v* cointains a list of all the dates of the actions.\n",
    "\n",
    "We can think at the dictionary *Graph* as am adjacency list. Moreover each link is weigthed, and the weight is equal to the number of actions taken, which can be calculated by taking the length of the list inside each dictionary *v*."
   ]
  },
  {
   "cell_type": "code",
   "execution_count": null,
   "id": "1adf7a88-99cc-4b96-9c5d-f3a0476cab7d",
   "metadata": {},
   "outputs": [],
   "source": [
    "answers_to_questions_graph = {}\n",
    "\n",
    "for i in range(len(answers_to_questions)):\n",
    "    if answers_to_questions['from'][i] not in answers_to_questions_graph:\n",
    "        answers_to_questions_graph[answers_to_questions['from'][i]] = []\n",
    "    answers_to_questions_graph[answers_to_questions['from'][i]].append((answers_to_questions.to[i], answers_to_questions.time[i]))\n",
    "    \n",
    "    \n",
    "supp = {}\n",
    "for key in answers_to_questions_graph.keys():\n",
    "    for i in range(len(answers_to_questions_graph[key])):\n",
    "        if answers_to_questions_graph[key][i][0] not in supp:\n",
    "            supp[answers_to_questions_graph[key][i][0]] = []\n",
    "        supp[answers_to_questions_graph[key][i][0]].append(answers_to_questions_graph[key][i][1])\n",
    "    answers_to_questions_graph[key] = supp"
   ]
  },
  {
   "cell_type": "code",
   "execution_count": null,
   "id": "388d43c3-ef4d-4022-91c1-3f15b2373d77",
   "metadata": {},
   "outputs": [],
   "source": [
    "comments_to_answers_graph = {}\n",
    "\n",
    "for i in range(len(comments_to_answers)):\n",
    "    if comments_to_answers['from'][i] not in comments_to_answers_graph:\n",
    "        comments_to_answers_graph[comments_to_answers['from'][i]] = []\n",
    "    comments_to_answers_graph[comments_to_answers['from'][i]].append((comments_to_answers.to[i], comments_to_answers.time[i]))\n",
    "    \n",
    "\n",
    "supp = {}\n",
    "for key in comments_to_answers_graph.keys():\n",
    "    for i in range(len(comments_to_answers_graph[key])):\n",
    "        if comments_to_answers_graph[key][i][0] not in supp:\n",
    "            supp[comments_to_answers_graph[key][i][0]] = []\n",
    "        supp[comments_to_answers_graph[key][i][0]].append(comments_to_answers_graph[key][i][1])\n",
    "    comments_to_answers_graph[key] = supp"
   ]
  },
  {
   "cell_type": "code",
   "execution_count": null,
   "id": "0f025f85-0db4-42cd-b9bb-84d0b5217c8d",
   "metadata": {},
   "outputs": [],
   "source": [
    "comments_to_questions_graph = {}\n",
    "\n",
    "for i in range(len(comments_to_questions)):\n",
    "    if comments_to_questions['from'][i] not in comments_to_questions_graph:\n",
    "        comments_to_questions_graph[comments_to_questions['from'][i]] = []\n",
    "    comments_to_questions_graph[comments_to_questions['from'][i]].append((comments_to_questions.to[i], comments_to_questions.time[i]))\n",
    "    \n",
    "\n",
    "supp = {}\n",
    "for key in comments_to_questions_graph.keys():\n",
    "    for i in range(len(comments_to_questions_graph[key])):\n",
    "        if comments_to_questions_graph[key][i][0] not in supp:\n",
    "            supp[comments_to_questions_graph[key][i][0]] = []\n",
    "        supp[comments_to_questions_graph[key][i][0]].append(comments_to_questions_graph[key][i][1])\n",
    "    comments_to_questions_graph[key] = supp"
   ]
  },
  {
   "cell_type": "code",
   "execution_count": null,
   "id": "b24733b2-5b1e-4c6a-a68a-101512cd5ad8",
   "metadata": {},
   "outputs": [],
   "source": [
    "graph = {}\n",
    "\n",
    "for i in range(len(answers_to_questions)):\n",
    "    if answers_to_questions['from'][i] not in graph:\n",
    "        graph[answers_to_questions['from'][i]] = []\n",
    "    graph[answers_to_questions['from'][i]].append((answers_to_questions.to[i], answers_to_questions.time[i]))\n",
    "    \n",
    "for i in range(len(comments_to_answers)):\n",
    "    if comments_to_answers['from'][i] not in graph:\n",
    "        graph[comments_to_answers['from'][i]] = []\n",
    "    graph[comments_to_answers['from'][i]].append((comments_to_answers.to[i], comments_to_answers.time[i]))\n",
    "    \n",
    "for i in range(len(comments_to_questions)):\n",
    "    if comments_to_questions['from'][i] not in graph:\n",
    "        graph[comments_to_questions['from'][i]] = []\n",
    "    graph[comments_to_questions['from'][i]].append((comments_to_questions.to[i], comments_to_questions.time[i]))\n",
    "    \n",
    "    \n",
    "    \n",
    "supp = {}\n",
    "for key in graph.keys():\n",
    "    for i in range(len(graph[key])):\n",
    "        if graph[key][i][0] not in supp:\n",
    "            supp[graph[key][i][0]] = []\n",
    "        supp[graph[key][i][0]].append(graph[key][i][1])\n",
    "    graph[key] = supp"
   ]
  }
 ],
 "metadata": {
  "kernelspec": {
   "display_name": "Python 3",
   "language": "python",
   "name": "python3"
  },
  "language_info": {
   "codemirror_mode": {
    "name": "ipython",
    "version": 3
   },
   "file_extension": ".py",
   "mimetype": "text/x-python",
   "name": "python",
   "nbconvert_exporter": "python",
   "pygments_lexer": "ipython3",
   "version": "3.8.8"
  }
 },
 "nbformat": 4,
 "nbformat_minor": 5
}
