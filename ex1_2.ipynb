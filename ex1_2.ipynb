{
 "cells": [
  {
   "cell_type": "code",
   "execution_count": 1,
   "id": "118ec167-c590-4827-871c-c07be6647eb3",
   "metadata": {},
   "outputs": [],
   "source": [
    "import pandas as pd\n",
    "import numpy as np\n",
    "import datetime\n",
    "import networkx as nx\n",
    "import itertools"
   ]
  },
  {
   "cell_type": "markdown",
   "id": "d774fe5c-f68f-4303-a434-536e6ef255b9",
   "metadata": {},
   "source": [
    "# 1. DATA"
   ]
  },
  {
   "cell_type": "markdown",
   "id": "2f69be04-f5ae-4132-a140-03aadfc64194",
   "metadata": {},
   "source": [
    "First of all we decompressed the '.gz' files and then added a row as a header ('from to time')."
   ]
  },
  {
   "cell_type": "code",
   "execution_count": 2,
   "id": "ff430917-5fba-4901-8e1e-4a29a3ca6826",
   "metadata": {},
   "outputs": [],
   "source": [
    "#load data\n",
    "answers_to_questions = pd.read_table('answers_to_questions', sep=' ')\n",
    "comments_to_answers = pd.read_table('comments_to_answers', sep=' ')\n",
    "comments_to_questions = pd.read_table('comments_to_questions', sep=' ')"
   ]
  },
  {
   "cell_type": "markdown",
   "id": "4850396a-52d5-4cd9-9665-741bbdfb32cd",
   "metadata": {},
   "source": [
    "If you wanna work on a smaller range of time use the code below. For example let's just take the data from 2010."
   ]
  },
  {
   "cell_type": "code",
   "execution_count": 3,
   "id": "44cc8bf6-9d92-42fc-bc18-c1d2452a8a04",
   "metadata": {},
   "outputs": [],
   "source": [
    "#create timestamps for the first and last days of 2010\n",
    "import time\n",
    "start = '01/01/2010'\n",
    "end = '31/12/2010'\n",
    "start = int(time.mktime(datetime.datetime.strptime(start, \"%d/%m/%Y\").timetuple()))\n",
    "end = int(time.mktime(datetime.datetime.strptime(end, \"%d/%m/%Y\").timetuple()))\n",
    "\n",
    "\n",
    "#take only data from the first half of 2009\n",
    "answers_to_questions = answers_to_questions[(answers_to_questions.time >= start) & (answers_to_questions.time <= end)]\n",
    "comments_to_answers = comments_to_answers[(comments_to_answers.time >= start) & (comments_to_answers.time <= end)]\n",
    "comments_to_questions = comments_to_questions[(comments_to_questions.time >= start) & (comments_to_questions.time <= end)]\n",
    "#reset the index\n",
    "answers_to_questions.reset_index(drop = True, inplace = True)\n",
    "comments_to_answers.reset_index(drop = True, inplace = True)\n",
    "comments_to_questions.reset_index(drop = True, inplace = True)"
   ]
  },
  {
   "cell_type": "markdown",
   "id": "4acfcb9d-810a-43fc-9d92-57626efc8127",
   "metadata": {},
   "source": [
    "Let's deal with dates!"
   ]
  },
  {
   "cell_type": "code",
   "execution_count": 4,
   "id": "dc073841-3764-4d20-9ce6-2f6c2eebe162",
   "metadata": {},
   "outputs": [],
   "source": [
    "#convert timestamps\n",
    "answers_to_questions['time'] = answers_to_questions['time'].apply(datetime.datetime.fromtimestamp).astype(str)\n",
    "comments_to_answers['time'] = comments_to_answers['time'].apply(datetime.datetime.fromtimestamp).astype(str)\n",
    "comments_to_questions['time'] = comments_to_questions['time'].apply(datetime.datetime.fromtimestamp).astype(str)\n",
    "\n",
    "#let's just take year, month, day (in this order)\n",
    "answers_to_questions['time'] = answers_to_questions['time'].str[:10]\n",
    "comments_to_answers['time'] = comments_to_answers['time'].str[:10]\n",
    "comments_to_questions['time'] = comments_to_questions['time'].str[:10]"
   ]
  },
  {
   "cell_type": "code",
   "execution_count": 5,
   "id": "9f5ae2de-1dd7-4afc-b70d-c75b42a533a1",
   "metadata": {},
   "outputs": [
    {
     "data": {
      "text/html": [
       "<div>\n",
       "<style scoped>\n",
       "    .dataframe tbody tr th:only-of-type {\n",
       "        vertical-align: middle;\n",
       "    }\n",
       "\n",
       "    .dataframe tbody tr th {\n",
       "        vertical-align: top;\n",
       "    }\n",
       "\n",
       "    .dataframe thead th {\n",
       "        text-align: right;\n",
       "    }\n",
       "</style>\n",
       "<table border=\"1\" class=\"dataframe\">\n",
       "  <thead>\n",
       "    <tr style=\"text-align: right;\">\n",
       "      <th></th>\n",
       "      <th>from</th>\n",
       "      <th>to</th>\n",
       "      <th>time</th>\n",
       "    </tr>\n",
       "  </thead>\n",
       "  <tbody>\n",
       "    <tr>\n",
       "      <th>0</th>\n",
       "      <td>235648</td>\n",
       "      <td>46724</td>\n",
       "      <td>2010-01-01</td>\n",
       "    </tr>\n",
       "    <tr>\n",
       "      <th>1</th>\n",
       "      <td>232279</td>\n",
       "      <td>117859</td>\n",
       "      <td>2010-01-01</td>\n",
       "    </tr>\n",
       "    <tr>\n",
       "      <th>2</th>\n",
       "      <td>235648</td>\n",
       "      <td>147095</td>\n",
       "      <td>2010-01-01</td>\n",
       "    </tr>\n",
       "    <tr>\n",
       "      <th>3</th>\n",
       "      <td>79668</td>\n",
       "      <td>73630</td>\n",
       "      <td>2010-01-01</td>\n",
       "    </tr>\n",
       "    <tr>\n",
       "      <th>4</th>\n",
       "      <td>202019</td>\n",
       "      <td>46724</td>\n",
       "      <td>2010-01-01</td>\n",
       "    </tr>\n",
       "  </tbody>\n",
       "</table>\n",
       "</div>"
      ],
      "text/plain": [
       "     from      to        time\n",
       "0  235648   46724  2010-01-01\n",
       "1  232279  117859  2010-01-01\n",
       "2  235648  147095  2010-01-01\n",
       "3   79668   73630  2010-01-01\n",
       "4  202019   46724  2010-01-01"
      ]
     },
     "execution_count": 5,
     "metadata": {},
     "output_type": "execute_result"
    }
   ],
   "source": [
    "answers_to_questions.head()"
   ]
  },
  {
   "cell_type": "code",
   "execution_count": 6,
   "id": "0cfdc12a-b369-46b3-a2fb-80bf630f0ef7",
   "metadata": {},
   "outputs": [
    {
     "data": {
      "text/html": [
       "<div>\n",
       "<style scoped>\n",
       "    .dataframe tbody tr th:only-of-type {\n",
       "        vertical-align: middle;\n",
       "    }\n",
       "\n",
       "    .dataframe tbody tr th {\n",
       "        vertical-align: top;\n",
       "    }\n",
       "\n",
       "    .dataframe thead th {\n",
       "        text-align: right;\n",
       "    }\n",
       "</style>\n",
       "<table border=\"1\" class=\"dataframe\">\n",
       "  <thead>\n",
       "    <tr style=\"text-align: right;\">\n",
       "      <th></th>\n",
       "      <th>from</th>\n",
       "      <th>to</th>\n",
       "      <th>time</th>\n",
       "    </tr>\n",
       "  </thead>\n",
       "  <tbody>\n",
       "    <tr>\n",
       "      <th>0</th>\n",
       "      <td>87834</td>\n",
       "      <td>85597</td>\n",
       "      <td>2010-01-01</td>\n",
       "    </tr>\n",
       "    <tr>\n",
       "      <th>1</th>\n",
       "      <td>164506</td>\n",
       "      <td>45914</td>\n",
       "      <td>2010-01-01</td>\n",
       "    </tr>\n",
       "    <tr>\n",
       "      <th>2</th>\n",
       "      <td>222908</td>\n",
       "      <td>187606</td>\n",
       "      <td>2010-01-01</td>\n",
       "    </tr>\n",
       "    <tr>\n",
       "      <th>3</th>\n",
       "      <td>71134</td>\n",
       "      <td>71134</td>\n",
       "      <td>2010-01-01</td>\n",
       "    </tr>\n",
       "    <tr>\n",
       "      <th>4</th>\n",
       "      <td>241577</td>\n",
       "      <td>133910</td>\n",
       "      <td>2010-01-01</td>\n",
       "    </tr>\n",
       "  </tbody>\n",
       "</table>\n",
       "</div>"
      ],
      "text/plain": [
       "     from      to        time\n",
       "0   87834   85597  2010-01-01\n",
       "1  164506   45914  2010-01-01\n",
       "2  222908  187606  2010-01-01\n",
       "3   71134   71134  2010-01-01\n",
       "4  241577  133910  2010-01-01"
      ]
     },
     "execution_count": 6,
     "metadata": {},
     "output_type": "execute_result"
    }
   ],
   "source": [
    "comments_to_answers.head()"
   ]
  },
  {
   "cell_type": "code",
   "execution_count": 7,
   "id": "f544f296-5a08-49df-ba83-fe15fabb8085",
   "metadata": {},
   "outputs": [
    {
     "data": {
      "text/html": [
       "<div>\n",
       "<style scoped>\n",
       "    .dataframe tbody tr th:only-of-type {\n",
       "        vertical-align: middle;\n",
       "    }\n",
       "\n",
       "    .dataframe tbody tr th {\n",
       "        vertical-align: top;\n",
       "    }\n",
       "\n",
       "    .dataframe thead th {\n",
       "        text-align: right;\n",
       "    }\n",
       "</style>\n",
       "<table border=\"1\" class=\"dataframe\">\n",
       "  <thead>\n",
       "    <tr style=\"text-align: right;\">\n",
       "      <th></th>\n",
       "      <th>from</th>\n",
       "      <th>to</th>\n",
       "      <th>time</th>\n",
       "    </tr>\n",
       "  </thead>\n",
       "  <tbody>\n",
       "    <tr>\n",
       "      <th>0</th>\n",
       "      <td>1831</td>\n",
       "      <td>229728</td>\n",
       "      <td>2010-01-01</td>\n",
       "    </tr>\n",
       "    <tr>\n",
       "      <th>1</th>\n",
       "      <td>144424</td>\n",
       "      <td>147095</td>\n",
       "      <td>2010-01-01</td>\n",
       "    </tr>\n",
       "    <tr>\n",
       "      <th>2</th>\n",
       "      <td>121363</td>\n",
       "      <td>198729</td>\n",
       "      <td>2010-01-01</td>\n",
       "    </tr>\n",
       "    <tr>\n",
       "      <th>3</th>\n",
       "      <td>30587</td>\n",
       "      <td>86288</td>\n",
       "      <td>2010-01-01</td>\n",
       "    </tr>\n",
       "    <tr>\n",
       "      <th>4</th>\n",
       "      <td>231677</td>\n",
       "      <td>31699</td>\n",
       "      <td>2010-01-01</td>\n",
       "    </tr>\n",
       "  </tbody>\n",
       "</table>\n",
       "</div>"
      ],
      "text/plain": [
       "     from      to        time\n",
       "0    1831  229728  2010-01-01\n",
       "1  144424  147095  2010-01-01\n",
       "2  121363  198729  2010-01-01\n",
       "3   30587   86288  2010-01-01\n",
       "4  231677   31699  2010-01-01"
      ]
     },
     "execution_count": 7,
     "metadata": {},
     "output_type": "execute_result"
    }
   ],
   "source": [
    "comments_to_questions.head()"
   ]
  },
  {
   "cell_type": "markdown",
   "id": "fbb41743-5237-4160-8d28-d4155681c450",
   "metadata": {},
   "source": [
    "Each dictionary represents a adjacency list. \n",
    "\n",
    "The dictionary *Graph* represent the merge of the 3 single graphs: for each node *u* there are all the nodes *v* , represented as dictionaries, which answered to a question of node *u*, commented an answer of node *u* or commented a question of node *u*. This graph is directed and self-connections are allowed. Each dictionary represented by the nodes *v* cointains a list of all the dates of the actions.\n",
    "\n",
    "We can think at the dictionary *Graph* as am adjacency list. Moreover each link is weigthed, and the weight is equal to the number of actions taken, which can be calculated by taking the length of the list inside each dictionary *v*."
   ]
  },
  {
   "cell_type": "code",
   "execution_count": 8,
   "id": "1adf7a88-99cc-4b96-9c5d-f3a0476cab7d",
   "metadata": {},
   "outputs": [],
   "source": [
    "answers_to_questions_graph = {}\n",
    "\n",
    "for i in range(len(answers_to_questions)):\n",
    "    if answers_to_questions['from'][i] not in answers_to_questions_graph:\n",
    "        answers_to_questions_graph[answers_to_questions['from'][i]] = []\n",
    "    answers_to_questions_graph[answers_to_questions['from'][i]].append((answers_to_questions.to[i], answers_to_questions.time[i]))\n",
    "    \n",
    "    \n",
    "for key in answers_to_questions_graph.keys():\n",
    "    supp = {}\n",
    "    for i in range(len(answers_to_questions_graph[key])):\n",
    "        if answers_to_questions_graph[key][i][0] not in supp:\n",
    "            supp[answers_to_questions_graph[key][i][0]] = []\n",
    "        supp[answers_to_questions_graph[key][i][0]].append(answers_to_questions_graph[key][i][1])\n",
    "    answers_to_questions_graph[key] = supp"
   ]
  },
  {
   "cell_type": "code",
   "execution_count": 9,
   "id": "388d43c3-ef4d-4022-91c1-3f15b2373d77",
   "metadata": {},
   "outputs": [],
   "source": [
    "comments_to_answers_graph = {}\n",
    "\n",
    "for i in range(len(comments_to_answers)):\n",
    "    if comments_to_answers['from'][i] not in comments_to_answers_graph:\n",
    "        comments_to_answers_graph[comments_to_answers['from'][i]] = []\n",
    "    comments_to_answers_graph[comments_to_answers['from'][i]].append((comments_to_answers.to[i], comments_to_answers.time[i]))\n",
    "    \n",
    "\n",
    "\n",
    "for key in comments_to_answers_graph.keys():\n",
    "    supp = {}\n",
    "    for i in range(len(comments_to_answers_graph[key])):\n",
    "        if comments_to_answers_graph[key][i][0] not in supp:\n",
    "            supp[comments_to_answers_graph[key][i][0]] = []\n",
    "        supp[comments_to_answers_graph[key][i][0]].append(comments_to_answers_graph[key][i][1])\n",
    "    comments_to_answers_graph[key] = supp"
   ]
  },
  {
   "cell_type": "code",
   "execution_count": 10,
   "id": "0f025f85-0db4-42cd-b9bb-84d0b5217c8d",
   "metadata": {},
   "outputs": [],
   "source": [
    "comments_to_questions_graph = {}\n",
    "\n",
    "for i in range(len(comments_to_questions)):\n",
    "    if comments_to_questions['from'][i] not in comments_to_questions_graph:\n",
    "        comments_to_questions_graph[comments_to_questions['from'][i]] = []\n",
    "    comments_to_questions_graph[comments_to_questions['from'][i]].append((comments_to_questions.to[i], comments_to_questions.time[i]))\n",
    "    \n",
    "\n",
    "for key in comments_to_questions_graph.keys():\n",
    "    supp = {}\n",
    "    for i in range(len(comments_to_questions_graph[key])):\n",
    "        if comments_to_questions_graph[key][i][0] not in supp:\n",
    "            supp[comments_to_questions_graph[key][i][0]] = []\n",
    "        supp[comments_to_questions_graph[key][i][0]].append(comments_to_questions_graph[key][i][1])\n",
    "    comments_to_questions_graph[key] = supp"
   ]
  },
  {
   "cell_type": "code",
   "execution_count": 11,
   "id": "b24733b2-5b1e-4c6a-a68a-101512cd5ad8",
   "metadata": {},
   "outputs": [],
   "source": [
    "graph = {}\n",
    "\n",
    "for i in range(len(answers_to_questions)):\n",
    "    if answers_to_questions['from'][i] not in graph:\n",
    "        graph[answers_to_questions['from'][i]] = []\n",
    "    graph[answers_to_questions['from'][i]].append((answers_to_questions.to[i], answers_to_questions.time[i]))\n",
    "    \n",
    "for i in range(len(comments_to_answers)):\n",
    "    if comments_to_answers['from'][i] not in graph:\n",
    "        graph[comments_to_answers['from'][i]] = []\n",
    "    graph[comments_to_answers['from'][i]].append((comments_to_answers.to[i], comments_to_answers.time[i]))\n",
    "    \n",
    "for i in range(len(comments_to_questions)):\n",
    "    if comments_to_questions['from'][i] not in graph:\n",
    "        graph[comments_to_questions['from'][i]] = []\n",
    "    graph[comments_to_questions['from'][i]].append((comments_to_questions.to[i], comments_to_questions.time[i]))\n",
    "    \n",
    "    \n",
    "    \n",
    "for key in graph.keys():\n",
    "    supp = {}\n",
    "    for i in range(len(graph[key])):\n",
    "        if graph[key][i][0] not in supp:\n",
    "            supp[graph[key][i][0]] = []\n",
    "        supp[graph[key][i][0]].append(graph[key][i][1])\n",
    "    graph[key] = supp"
   ]
  },
  {
   "cell_type": "markdown",
   "id": "11dba093-a23e-4bf3-a61d-453ba78f593d",
   "metadata": {},
   "source": [
    "# 2. Implementation of the backend"
   ]
  },
  {
   "cell_type": "markdown",
   "id": "36b43923-9969-4828-a987-221edd08d71d",
   "metadata": {},
   "source": [
    "### Functionality 1 - Get the overall features of the graph"
   ]
  },
  {
   "cell_type": "code",
   "execution_count": 36,
   "id": "e917569d-14a0-47c1-bcfc-ee49571c3f7c",
   "metadata": {},
   "outputs": [],
   "source": [
    "from collections import Counter"
   ]
  },
  {
   "cell_type": "code",
   "execution_count": 61,
   "id": "7e81dca6-c60c-487b-9fe5-929f0209faea",
   "metadata": {},
   "outputs": [],
   "source": [
    "def directed(a_graph):\n",
    "    for key in a_graph.keys():\n",
    "        for key_ in a_graph[key].keys():\n",
    "            if key_ not in a_graph.keys():\n",
    "                return('directed')\n",
    "            if key not in a_graph[key_].keys():\n",
    "                return('directed')\n",
    "            if Counter(a_graph[key][key_]) != Counter(a_graph[key_][key]):\n",
    "                return('directed')\n",
    "    return('undirected')"
   ]
  },
  {
   "cell_type": "code",
   "execution_count": 62,
   "id": "bb4550bb-b5e9-475c-be77-35083d977c5c",
   "metadata": {},
   "outputs": [],
   "source": [
    "def n_users(a_graph):\n",
    "    users=[]\n",
    "    for key in a_graph.keys():\n",
    "        users.append(list(a_graph[key].keys()))\n",
    "    users.append(list(a_graph.keys()))\n",
    "    users = set(list(itertools.chain.from_iterable(users)))\n",
    "    return(len(users))"
   ]
  },
  {
   "cell_type": "code",
   "execution_count": 63,
   "id": "9498de0c-67df-4e24-b037-13479843fd0f",
   "metadata": {},
   "outputs": [],
   "source": [
    "def n_answers_comments(a_graph):\n",
    "    n = 0\n",
    "    for key in a_graph.keys():\n",
    "        for key_ in a_graph[key].keys():\n",
    "            n = n + len(a_graph[key][key_])\n",
    "    return(n)"
   ]
  },
  {
   "cell_type": "code",
   "execution_count": 64,
   "id": "d271fef6-e08e-4994-b7be-d7a38ed75892",
   "metadata": {},
   "outputs": [],
   "source": [
    "def avg_n_links(a_graph):\n",
    "        return(n_answers_comments(a_graph)/n_users(a_graph))"
   ]
  },
  {
   "cell_type": "code",
   "execution_count": 65,
   "id": "9709003f-8266-435a-9051-c3673bd59940",
   "metadata": {},
   "outputs": [],
   "source": [
    "def density(a_graph):\n",
    "    n = n_users(a_graph)\n",
    "    return(n_answers_comments(a_graph)/(n*(n-1)))"
   ]
  },
  {
   "cell_type": "code",
   "execution_count": 66,
   "id": "fff9ecd1-b722-4939-9e3e-a215d101925c",
   "metadata": {},
   "outputs": [],
   "source": [
    "def sparse(a_graph):\n",
    "    if density(a_graph) < 0.7:\n",
    "        return('sparse')\n",
    "    else:\n",
    "        return('dense')"
   ]
  },
  {
   "cell_type": "code",
   "execution_count": 73,
   "id": "58507767-e78e-42a0-8c37-369aa47a25a5",
   "metadata": {},
   "outputs": [],
   "source": [
    "def Functionality_1(a_graph):\n",
    "   \n",
    "    return({'directed': directed(a_graph), 'n_users': n_users(a_graph), 'n_answers_comments': n_answers_comments(a_graph),\n",
    "           'avg_n_links': avg_n_links(a_graph), 'density': density(a_graph), 'sparse': sparse(a_graph)})"
   ]
  },
  {
   "cell_type": "code",
   "execution_count": 74,
   "id": "94a74e4b-2ec8-459a-be37-2ade7a368ffd",
   "metadata": {},
   "outputs": [
    {
     "data": {
      "text/plain": [
       "{'directed': 'directed',\n",
       " 'n_users': 228025,\n",
       " 'n_answers_comments': 3940853,\n",
       " 'avg_n_links': 17.28254796623177,\n",
       " 'density': 7.579267079882719e-05,\n",
       " 'sparse': 'sparse'}"
      ]
     },
     "execution_count": 74,
     "metadata": {},
     "output_type": "execute_result"
    }
   ],
   "source": [
    "Functionality_1(graph)"
   ]
  },
  {
   "cell_type": "code",
   "execution_count": null,
   "id": "99f9c1de-59be-44a4-a8d4-ba71e6ef9dec",
   "metadata": {},
   "outputs": [],
   "source": []
  }
 ],
 "metadata": {
  "kernelspec": {
   "display_name": "Python 3",
   "language": "python",
   "name": "python3"
  },
  "language_info": {
   "codemirror_mode": {
    "name": "ipython",
    "version": 3
   },
   "file_extension": ".py",
   "mimetype": "text/x-python",
   "name": "python",
   "nbconvert_exporter": "python",
   "pygments_lexer": "ipython3",
   "version": "3.8.8"
  }
 },
 "nbformat": 4,
 "nbformat_minor": 5
}
