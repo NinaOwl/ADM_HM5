{
 "cells": [
  {
   "cell_type": "code",
   "execution_count": 1,
   "id": "118ec167-c590-4827-871c-c07be6647eb3",
   "metadata": {},
   "outputs": [],
   "source": [
    "import pandas as pd\n",
    "import numpy as np\n",
    "import datetime\n",
    "import matplotlib.pyplot as plt\n",
    "import networkx as nx\n",
    "import itertools\n",
    "import copy"
   ]
  },
  {
   "cell_type": "markdown",
   "id": "d774fe5c-f68f-4303-a434-536e6ef255b9",
   "metadata": {},
   "source": [
    "# 1. DATA"
   ]
  },
  {
   "cell_type": "markdown",
   "id": "2f69be04-f5ae-4132-a140-03aadfc64194",
   "metadata": {},
   "source": [
    "First of all we decompressed the '.gz' files and then added a row as a header ('from to time')."
   ]
  },
  {
   "cell_type": "code",
   "execution_count": 2,
   "id": "ff430917-5fba-4901-8e1e-4a29a3ca6826",
   "metadata": {},
   "outputs": [],
   "source": [
    "#load data\n",
    "answers_to_questions = pd.read_table('answers_to_questions', sep=' ')\n",
    "comments_to_answers = pd.read_table('comments_to_answers', sep=' ')\n",
    "comments_to_questions = pd.read_table('comments_to_questions', sep=' ')"
   ]
  },
  {
   "cell_type": "code",
   "execution_count": 3,
   "id": "d71c24c8",
   "metadata": {},
   "outputs": [
    {
     "data": {
      "text/html": [
       "<div>\n",
       "<style scoped>\n",
       "    .dataframe tbody tr th:only-of-type {\n",
       "        vertical-align: middle;\n",
       "    }\n",
       "\n",
       "    .dataframe tbody tr th {\n",
       "        vertical-align: top;\n",
       "    }\n",
       "\n",
       "    .dataframe thead th {\n",
       "        text-align: right;\n",
       "    }\n",
       "</style>\n",
       "<table border=\"1\" class=\"dataframe\">\n",
       "  <thead>\n",
       "    <tr style=\"text-align: right;\">\n",
       "      <th></th>\n",
       "      <th>from</th>\n",
       "      <th>to</th>\n",
       "      <th>time</th>\n",
       "    </tr>\n",
       "  </thead>\n",
       "  <tbody>\n",
       "    <tr>\n",
       "      <th>0</th>\n",
       "      <td>9</td>\n",
       "      <td>8</td>\n",
       "      <td>1217567877</td>\n",
       "    </tr>\n",
       "    <tr>\n",
       "      <th>1</th>\n",
       "      <td>1</td>\n",
       "      <td>1</td>\n",
       "      <td>1217573801</td>\n",
       "    </tr>\n",
       "    <tr>\n",
       "      <th>2</th>\n",
       "      <td>13</td>\n",
       "      <td>1</td>\n",
       "      <td>1217606247</td>\n",
       "    </tr>\n",
       "    <tr>\n",
       "      <th>3</th>\n",
       "      <td>17</td>\n",
       "      <td>1</td>\n",
       "      <td>1217617639</td>\n",
       "    </tr>\n",
       "    <tr>\n",
       "      <th>4</th>\n",
       "      <td>48</td>\n",
       "      <td>2</td>\n",
       "      <td>1217618182</td>\n",
       "    </tr>\n",
       "  </tbody>\n",
       "</table>\n",
       "</div>"
      ],
      "text/plain": [
       "   from  to        time\n",
       "0     9   8  1217567877\n",
       "1     1   1  1217573801\n",
       "2    13   1  1217606247\n",
       "3    17   1  1217617639\n",
       "4    48   2  1217618182"
      ]
     },
     "execution_count": 3,
     "metadata": {},
     "output_type": "execute_result"
    }
   ],
   "source": [
    "answers_to_questions.head()"
   ]
  },
  {
   "cell_type": "markdown",
   "id": "4850396a-52d5-4cd9-9665-741bbdfb32cd",
   "metadata": {},
   "source": [
    "If you wanna work on a smaller range of time use the code below. For example let's just take the data from 2010."
   ]
  },
  {
   "cell_type": "code",
   "execution_count": 4,
   "id": "44cc8bf6-9d92-42fc-bc18-c1d2452a8a04",
   "metadata": {},
   "outputs": [],
   "source": [
    "#create timestamps for the first and last days of 2010\n",
    "import time\n",
    "start = '01/01/2010'\n",
    "end = '31/12/2010'\n",
    "start = int(time.mktime(datetime.datetime.strptime(start, \"%d/%m/%Y\").timetuple()))\n",
    "end = int(time.mktime(datetime.datetime.strptime(end, \"%d/%m/%Y\").timetuple()))\n",
    "\n",
    "\n",
    "#take only data from the first half of 2009\n",
    "answers_to_questions = answers_to_questions[(answers_to_questions.time >= start) & (answers_to_questions.time <= end)]\n",
    "comments_to_answers = comments_to_answers[(comments_to_answers.time >= start) & (comments_to_answers.time <= end)]\n",
    "comments_to_questions = comments_to_questions[(comments_to_questions.time >= start) & (comments_to_questions.time <= end)]\n",
    "#reset the index\n",
    "answers_to_questions.reset_index(drop = True, inplace = True)\n",
    "comments_to_answers.reset_index(drop = True, inplace = True)\n",
    "comments_to_questions.reset_index(drop = True, inplace = True)"
   ]
  },
  {
   "cell_type": "markdown",
   "id": "4acfcb9d-810a-43fc-9d92-57626efc8127",
   "metadata": {},
   "source": [
    "Let's deal with dates!"
   ]
  },
  {
   "cell_type": "code",
   "execution_count": 5,
   "id": "dc073841-3764-4d20-9ce6-2f6c2eebe162",
   "metadata": {},
   "outputs": [],
   "source": [
    "#convert timestamps\n",
    "answers_to_questions['time'] = answers_to_questions['time'].apply(datetime.datetime.fromtimestamp).astype(str)\n",
    "comments_to_answers['time'] = comments_to_answers['time'].apply(datetime.datetime.fromtimestamp).astype(str)\n",
    "comments_to_questions['time'] = comments_to_questions['time'].apply(datetime.datetime.fromtimestamp).astype(str)\n",
    "\n",
    "#let's just take year, month, day (in this order)\n",
    "answers_to_questions['time'] = answers_to_questions['time'].str[:10]\n",
    "comments_to_answers['time'] = comments_to_answers['time'].str[:10]\n",
    "comments_to_questions['time'] = comments_to_questions['time'].str[:10]"
   ]
  },
  {
   "cell_type": "code",
   "execution_count": 6,
   "id": "9f5ae2de-1dd7-4afc-b70d-c75b42a533a1",
   "metadata": {},
   "outputs": [
    {
     "data": {
      "text/html": [
       "<div>\n",
       "<style scoped>\n",
       "    .dataframe tbody tr th:only-of-type {\n",
       "        vertical-align: middle;\n",
       "    }\n",
       "\n",
       "    .dataframe tbody tr th {\n",
       "        vertical-align: top;\n",
       "    }\n",
       "\n",
       "    .dataframe thead th {\n",
       "        text-align: right;\n",
       "    }\n",
       "</style>\n",
       "<table border=\"1\" class=\"dataframe\">\n",
       "  <thead>\n",
       "    <tr style=\"text-align: right;\">\n",
       "      <th></th>\n",
       "      <th>from</th>\n",
       "      <th>to</th>\n",
       "      <th>time</th>\n",
       "    </tr>\n",
       "  </thead>\n",
       "  <tbody>\n",
       "    <tr>\n",
       "      <th>0</th>\n",
       "      <td>235648</td>\n",
       "      <td>46724</td>\n",
       "      <td>2010-01-01</td>\n",
       "    </tr>\n",
       "    <tr>\n",
       "      <th>1</th>\n",
       "      <td>232279</td>\n",
       "      <td>117859</td>\n",
       "      <td>2010-01-01</td>\n",
       "    </tr>\n",
       "    <tr>\n",
       "      <th>2</th>\n",
       "      <td>235648</td>\n",
       "      <td>147095</td>\n",
       "      <td>2010-01-01</td>\n",
       "    </tr>\n",
       "    <tr>\n",
       "      <th>3</th>\n",
       "      <td>79668</td>\n",
       "      <td>73630</td>\n",
       "      <td>2010-01-01</td>\n",
       "    </tr>\n",
       "    <tr>\n",
       "      <th>4</th>\n",
       "      <td>202019</td>\n",
       "      <td>46724</td>\n",
       "      <td>2010-01-01</td>\n",
       "    </tr>\n",
       "  </tbody>\n",
       "</table>\n",
       "</div>"
      ],
      "text/plain": [
       "     from      to        time\n",
       "0  235648   46724  2010-01-01\n",
       "1  232279  117859  2010-01-01\n",
       "2  235648  147095  2010-01-01\n",
       "3   79668   73630  2010-01-01\n",
       "4  202019   46724  2010-01-01"
      ]
     },
     "execution_count": 6,
     "metadata": {},
     "output_type": "execute_result"
    }
   ],
   "source": [
    "answers_to_questions.head()"
   ]
  },
  {
   "cell_type": "code",
   "execution_count": 7,
   "id": "0cfdc12a-b369-46b3-a2fb-80bf630f0ef7",
   "metadata": {},
   "outputs": [
    {
     "data": {
      "text/html": [
       "<div>\n",
       "<style scoped>\n",
       "    .dataframe tbody tr th:only-of-type {\n",
       "        vertical-align: middle;\n",
       "    }\n",
       "\n",
       "    .dataframe tbody tr th {\n",
       "        vertical-align: top;\n",
       "    }\n",
       "\n",
       "    .dataframe thead th {\n",
       "        text-align: right;\n",
       "    }\n",
       "</style>\n",
       "<table border=\"1\" class=\"dataframe\">\n",
       "  <thead>\n",
       "    <tr style=\"text-align: right;\">\n",
       "      <th></th>\n",
       "      <th>from</th>\n",
       "      <th>to</th>\n",
       "      <th>time</th>\n",
       "    </tr>\n",
       "  </thead>\n",
       "  <tbody>\n",
       "    <tr>\n",
       "      <th>0</th>\n",
       "      <td>87834</td>\n",
       "      <td>85597</td>\n",
       "      <td>2010-01-01</td>\n",
       "    </tr>\n",
       "    <tr>\n",
       "      <th>1</th>\n",
       "      <td>164506</td>\n",
       "      <td>45914</td>\n",
       "      <td>2010-01-01</td>\n",
       "    </tr>\n",
       "    <tr>\n",
       "      <th>2</th>\n",
       "      <td>222908</td>\n",
       "      <td>187606</td>\n",
       "      <td>2010-01-01</td>\n",
       "    </tr>\n",
       "    <tr>\n",
       "      <th>3</th>\n",
       "      <td>71134</td>\n",
       "      <td>71134</td>\n",
       "      <td>2010-01-01</td>\n",
       "    </tr>\n",
       "    <tr>\n",
       "      <th>4</th>\n",
       "      <td>241577</td>\n",
       "      <td>133910</td>\n",
       "      <td>2010-01-01</td>\n",
       "    </tr>\n",
       "  </tbody>\n",
       "</table>\n",
       "</div>"
      ],
      "text/plain": [
       "     from      to        time\n",
       "0   87834   85597  2010-01-01\n",
       "1  164506   45914  2010-01-01\n",
       "2  222908  187606  2010-01-01\n",
       "3   71134   71134  2010-01-01\n",
       "4  241577  133910  2010-01-01"
      ]
     },
     "execution_count": 7,
     "metadata": {},
     "output_type": "execute_result"
    }
   ],
   "source": [
    "comments_to_answers.head()"
   ]
  },
  {
   "cell_type": "code",
   "execution_count": 8,
   "id": "f544f296-5a08-49df-ba83-fe15fabb8085",
   "metadata": {},
   "outputs": [
    {
     "data": {
      "text/html": [
       "<div>\n",
       "<style scoped>\n",
       "    .dataframe tbody tr th:only-of-type {\n",
       "        vertical-align: middle;\n",
       "    }\n",
       "\n",
       "    .dataframe tbody tr th {\n",
       "        vertical-align: top;\n",
       "    }\n",
       "\n",
       "    .dataframe thead th {\n",
       "        text-align: right;\n",
       "    }\n",
       "</style>\n",
       "<table border=\"1\" class=\"dataframe\">\n",
       "  <thead>\n",
       "    <tr style=\"text-align: right;\">\n",
       "      <th></th>\n",
       "      <th>from</th>\n",
       "      <th>to</th>\n",
       "      <th>time</th>\n",
       "    </tr>\n",
       "  </thead>\n",
       "  <tbody>\n",
       "    <tr>\n",
       "      <th>0</th>\n",
       "      <td>1831</td>\n",
       "      <td>229728</td>\n",
       "      <td>2010-01-01</td>\n",
       "    </tr>\n",
       "    <tr>\n",
       "      <th>1</th>\n",
       "      <td>144424</td>\n",
       "      <td>147095</td>\n",
       "      <td>2010-01-01</td>\n",
       "    </tr>\n",
       "    <tr>\n",
       "      <th>2</th>\n",
       "      <td>121363</td>\n",
       "      <td>198729</td>\n",
       "      <td>2010-01-01</td>\n",
       "    </tr>\n",
       "    <tr>\n",
       "      <th>3</th>\n",
       "      <td>30587</td>\n",
       "      <td>86288</td>\n",
       "      <td>2010-01-01</td>\n",
       "    </tr>\n",
       "    <tr>\n",
       "      <th>4</th>\n",
       "      <td>231677</td>\n",
       "      <td>31699</td>\n",
       "      <td>2010-01-01</td>\n",
       "    </tr>\n",
       "  </tbody>\n",
       "</table>\n",
       "</div>"
      ],
      "text/plain": [
       "     from      to        time\n",
       "0    1831  229728  2010-01-01\n",
       "1  144424  147095  2010-01-01\n",
       "2  121363  198729  2010-01-01\n",
       "3   30587   86288  2010-01-01\n",
       "4  231677   31699  2010-01-01"
      ]
     },
     "execution_count": 8,
     "metadata": {},
     "output_type": "execute_result"
    }
   ],
   "source": [
    "comments_to_questions.head()"
   ]
  },
  {
   "cell_type": "markdown",
   "id": "fbb41743-5237-4160-8d28-d4155681c450",
   "metadata": {},
   "source": [
    "Each dictionary represents a adjacency list. \n",
    "\n",
    "The dictionary *Graph* represent the merge of the 3 single graphs: for each node *u* there are all the nodes *v* , represented as dictionaries, which answered to a question of node *u*, commented an answer of node *u* or commented a question of node *u*. This graph is directed and self-connections are allowed. Each dictionary represented by the nodes *v* cointains a list of all the dates of the actions.\n",
    "\n",
    "We can think at the dictionary *Graph* as am adjacency list. Moreover each link is weigthed, and the weight is equal to the number of actions taken, which can be calculated by taking the length of the list inside each dictionary *v*."
   ]
  },
  {
   "cell_type": "code",
   "execution_count": 9,
   "id": "1adf7a88-99cc-4b96-9c5d-f3a0476cab7d",
   "metadata": {},
   "outputs": [],
   "source": [
    "#graph for answers_to_questions\n",
    "answers_to_questions_graph = {}\n",
    "\n",
    "#first create a dictioary where the key is the starting node and contains a tuple with the arriving node and the time\n",
    "for i in range(len(answers_to_questions)):\n",
    "    if answers_to_questions['from'][i] not in answers_to_questions_graph:\n",
    "        answers_to_questions_graph[answers_to_questions['from'][i]] = []\n",
    "    answers_to_questions_graph[answers_to_questions['from'][i]].append((answers_to_questions.to[i], answers_to_questions.time[i]))\n",
    "    \n",
    "\n",
    "#let's now make a dictionary of dictionaries where the first key is the starting node,\n",
    "#the second the arriving node (which cointains a list of times) \n",
    "for key in answers_to_questions_graph.keys():\n",
    "    supp = {}\n",
    "    for i in range(len(answers_to_questions_graph[key])):\n",
    "        if answers_to_questions_graph[key][i][0] not in supp:\n",
    "            supp[answers_to_questions_graph[key][i][0]] = []\n",
    "        supp[answers_to_questions_graph[key][i][0]].append(answers_to_questions_graph[key][i][1])\n",
    "    answers_to_questions_graph[key] = supp\n",
    "    \n",
    "#the procedure for the following cells is the same."
   ]
  },
  {
   "cell_type": "code",
   "execution_count": 10,
   "id": "388d43c3-ef4d-4022-91c1-3f15b2373d77",
   "metadata": {},
   "outputs": [],
   "source": [
    "#graph for comments_to_answers\n",
    "comments_to_answers_graph = {}\n",
    "\n",
    "for i in range(len(comments_to_answers)):\n",
    "    if comments_to_answers['from'][i] not in comments_to_answers_graph:\n",
    "        comments_to_answers_graph[comments_to_answers['from'][i]] = []\n",
    "    comments_to_answers_graph[comments_to_answers['from'][i]].append((comments_to_answers.to[i], comments_to_answers.time[i]))\n",
    "    \n",
    "\n",
    "\n",
    "for key in comments_to_answers_graph.keys():\n",
    "    supp = {}\n",
    "    for i in range(len(comments_to_answers_graph[key])):\n",
    "        if comments_to_answers_graph[key][i][0] not in supp:\n",
    "            supp[comments_to_answers_graph[key][i][0]] = []\n",
    "        supp[comments_to_answers_graph[key][i][0]].append(comments_to_answers_graph[key][i][1])\n",
    "    comments_to_answers_graph[key] = supp"
   ]
  },
  {
   "cell_type": "code",
   "execution_count": 11,
   "id": "0f025f85-0db4-42cd-b9bb-84d0b5217c8d",
   "metadata": {},
   "outputs": [],
   "source": [
    "#graph for comments_to_questions\n",
    "comments_to_questions_graph = {}\n",
    "\n",
    "for i in range(len(comments_to_questions)):\n",
    "    if comments_to_questions['from'][i] not in comments_to_questions_graph:\n",
    "        comments_to_questions_graph[comments_to_questions['from'][i]] = []\n",
    "    comments_to_questions_graph[comments_to_questions['from'][i]].append((comments_to_questions.to[i], comments_to_questions.time[i]))\n",
    "    \n",
    "\n",
    "for key in comments_to_questions_graph.keys():\n",
    "    supp = {}\n",
    "    for i in range(len(comments_to_questions_graph[key])):\n",
    "        if comments_to_questions_graph[key][i][0] not in supp:\n",
    "            supp[comments_to_questions_graph[key][i][0]] = []\n",
    "        supp[comments_to_questions_graph[key][i][0]].append(comments_to_questions_graph[key][i][1])\n",
    "    comments_to_questions_graph[key] = supp"
   ]
  },
  {
   "cell_type": "code",
   "execution_count": 12,
   "id": "b24733b2-5b1e-4c6a-a68a-101512cd5ad8",
   "metadata": {},
   "outputs": [],
   "source": [
    "#total graph\n",
    "graph = {}\n",
    "\n",
    "#same procedure, but takes data from all three dataframes\n",
    "\n",
    "for i in range(len(answers_to_questions)):\n",
    "    if answers_to_questions['from'][i] not in graph:\n",
    "        graph[answers_to_questions['from'][i]] = []\n",
    "    graph[answers_to_questions['from'][i]].append((answers_to_questions.to[i], answers_to_questions.time[i]))\n",
    "    \n",
    "for i in range(len(comments_to_answers)):\n",
    "    if comments_to_answers['from'][i] not in graph:\n",
    "        graph[comments_to_answers['from'][i]] = []\n",
    "    graph[comments_to_answers['from'][i]].append((comments_to_answers.to[i], comments_to_answers.time[i]))\n",
    "    \n",
    "for i in range(len(comments_to_questions)):\n",
    "    if comments_to_questions['from'][i] not in graph:\n",
    "        graph[comments_to_questions['from'][i]] = []\n",
    "    graph[comments_to_questions['from'][i]].append((comments_to_questions.to[i], comments_to_questions.time[i]))\n",
    "    \n",
    "    \n",
    "    \n",
    "for key in graph.keys():\n",
    "    supp = {}\n",
    "    for i in range(len(graph[key])):\n",
    "        if graph[key][i][0] not in supp:\n",
    "            supp[graph[key][i][0]] = []\n",
    "        supp[graph[key][i][0]].append(graph[key][i][1])\n",
    "    graph[key] = supp"
   ]
  },
  {
   "cell_type": "markdown",
   "id": "11dba093-a23e-4bf3-a61d-453ba78f593d",
   "metadata": {},
   "source": [
    "# 2. Implementation of the backend"
   ]
  },
  {
   "cell_type": "markdown",
   "id": "36b43923-9969-4828-a987-221edd08d71d",
   "metadata": {},
   "source": [
    "### Functionality 1 - Get the overall features of the graph"
   ]
  },
  {
   "cell_type": "code",
   "execution_count": 13,
   "id": "e917569d-14a0-47c1-bcfc-ee49571c3f7c",
   "metadata": {},
   "outputs": [],
   "source": [
    "from collections import Counter"
   ]
  },
  {
   "cell_type": "code",
   "execution_count": 14,
   "id": "7e81dca6-c60c-487b-9fe5-929f0209faea",
   "metadata": {},
   "outputs": [],
   "source": [
    "def directed(a_graph):                          #most likely it will always be directed... (cause of construction)\n",
    "    for key in a_graph.keys():\n",
    "        for key_ in a_graph[key].keys():\n",
    "            if key_ not in a_graph.keys():\n",
    "                return('directed')\n",
    "            if key not in a_graph[key_].keys():\n",
    "                return('directed')\n",
    "            if Counter(a_graph[key][key_]) != Counter(a_graph[key_][key]):\n",
    "                return('directed')\n",
    "    return('undirected')                       #it basically checks 'simmetry'"
   ]
  },
  {
   "cell_type": "code",
   "execution_count": 15,
   "id": "bb4550bb-b5e9-475c-be77-35083d977c5c",
   "metadata": {},
   "outputs": [],
   "source": [
    "def n_users(a_graph):                          #counts all the nodes that appear in the graph\n",
    "    users=[]\n",
    "    for key in a_graph.keys():\n",
    "        users.append(list(a_graph[key].keys()))\n",
    "    users.append(list(a_graph.keys()))\n",
    "    users = set(list(itertools.chain.from_iterable(users)))\n",
    "    return(len(users))"
   ]
  },
  {
   "cell_type": "code",
   "execution_count": 16,
   "id": "9498de0c-67df-4e24-b037-13479843fd0f",
   "metadata": {},
   "outputs": [],
   "source": [
    "def n_answers_comments(a_graph):     #equal number of links*weight(len of the list)\n",
    "    n = 0\n",
    "    for key in a_graph.keys():\n",
    "        for key_ in a_graph[key].keys():\n",
    "            n = n + len(a_graph[key][key_])\n",
    "    if directed(a_graph) == 'directed':\n",
    "        return(n)\n",
    "    else:\n",
    "        return(n/2)                  #it basically counts the number of items in the lists"
   ]
  },
  {
   "cell_type": "code",
   "execution_count": 17,
   "id": "d271fef6-e08e-4994-b7be-d7a38ed75892",
   "metadata": {},
   "outputs": [],
   "source": [
    "def avg_n_links(a_graph):\n",
    "    if directed(a_graph) == 'directed':\n",
    "        return(n_answers_comments(a_graph)/n_users(a_graph))\n",
    "    else:\n",
    "        return(2*n_answers_comments(a_graph)/n_users(a_graph))"
   ]
  },
  {
   "cell_type": "code",
   "execution_count": 18,
   "id": "9709003f-8266-435a-9051-c3673bd59940",
   "metadata": {},
   "outputs": [],
   "source": [
    "def density(a_graph):\n",
    "    n = n_users(a_graph)\n",
    "    if directed(a_graph) == 'directed':\n",
    "        return(n_answers_comments(a_graph)/(n*(n-1)))\n",
    "    else:\n",
    "        return(2*n_answers_comments(a_graph)/(n*(n-1)))"
   ]
  },
  {
   "cell_type": "code",
   "execution_count": 19,
   "id": "fff9ecd1-b722-4939-9e3e-a215d101925c",
   "metadata": {},
   "outputs": [],
   "source": [
    "def sparse(a_graph):\n",
    "    if density(a_graph) < 0.5:        #use a treshold\n",
    "        return('sparse')\n",
    "    else:\n",
    "        return('dense')"
   ]
  },
  {
   "cell_type": "code",
   "execution_count": 20,
   "id": "58507767-e78e-42a0-8c37-369aa47a25a5",
   "metadata": {},
   "outputs": [],
   "source": [
    "def Functionality_1(a_graph):         #combine the previous functions and makes a dictionary\n",
    "   \n",
    "    return({'directed': directed(a_graph), 'n_users': n_users(a_graph), 'n_answers_comments': n_answers_comments(a_graph),\n",
    "           'avg_n_links': avg_n_links(a_graph), 'density': density(a_graph), 'sparse': sparse(a_graph)})"
   ]
  },
  {
   "cell_type": "code",
   "execution_count": 21,
   "id": "94a74e4b-2ec8-459a-be37-2ade7a368ffd",
   "metadata": {
    "scrolled": true
   },
   "outputs": [
    {
     "data": {
      "text/plain": [
       "{'directed': 'directed',\n",
       " 'n_users': 220685,\n",
       " 'n_answers_comments': 1444706,\n",
       " 'avg_n_links': 6.5464621519360175,\n",
       " 'density': 2.966441677663998e-05,\n",
       " 'sparse': 'sparse'}"
      ]
     },
     "execution_count": 21,
     "metadata": {},
     "output_type": "execute_result"
    }
   ],
   "source": [
    "Functionality_1(answers_to_questions_graph)"
   ]
  },
  {
   "cell_type": "markdown",
   "id": "164721ca-bed9-4b76-a104-4b68f7251338",
   "metadata": {},
   "source": [
    "### Functionality 2 - Find the best users!"
   ]
  },
  {
   "cell_type": "markdown",
   "id": "429f0514-b8a6-404f-b9fd-416c86d5cc89",
   "metadata": {},
   "source": [
    "I guess directed and unweighted versions are better in this case, cause I don't think the number of interactions is really important here."
   ]
  },
  {
   "cell_type": "code",
   "execution_count": 22,
   "id": "c50a0ef4-8653-42d7-9718-80e9b73713c7",
   "metadata": {},
   "outputs": [],
   "source": [
    "from collections import deque \n",
    "\n",
    "def s_path(graph, a_node, users):                       #find len of shortest path from a_node to every other node \n",
    "    distances = {}\n",
    "    visited = {}                                        #unweighted version cause it makes more sense to me\n",
    "    for user in users:\n",
    "        distances[user] = 999999999\n",
    "    distances[a_node] = 0\n",
    "    q = deque()\n",
    "    q.append(a_node)\n",
    "    visited[a_node] = True\n",
    "    \n",
    "    while q:                                            #uses a queue\n",
    "        current = q[0]                                  #takes first in queue\n",
    "        q.popleft()\n",
    "        \n",
    "        if current in graph.keys():                     #visits every son of the current node\n",
    "            for x in list(graph[current]):\n",
    "                if x not in visited.keys():\n",
    "                    q.append(x)\n",
    "                    visited[x] = True\n",
    "                    \n",
    "                if x in distances.keys():                        #checks and updates\n",
    "                    if distances[x] > distances[current] + 1:\n",
    "                        distances[x] = distances[current] + 1 \n",
    "        \n",
    "                    \n",
    "    for key in list(distances):                                  #removes not connected nodes\n",
    "        if distances[key] == 999999999:\n",
    "            distances.pop(key)\n",
    "                \n",
    "    return distances"
   ]
  },
  {
   "cell_type": "code",
   "execution_count": 23,
   "id": "025fbca9-b37f-4153-a799-cea41540992f",
   "metadata": {},
   "outputs": [],
   "source": [
    "def s_path_1(graph, a_node, users):                     #same as the previous function but it also saves the path\n",
    "    distances = {}\n",
    "    visited = {}\n",
    "    path = {}\n",
    "    for user in users:\n",
    "        distances[user] = 999999999\n",
    "    distances[a_node] = 0\n",
    "    q = deque()\n",
    "    q.append(a_node)\n",
    "    visited[a_node] = True\n",
    "    path[a_node] = []\n",
    "    \n",
    "    while q:                                           \n",
    "        current = q[0]                                  \n",
    "        q.popleft()\n",
    "        \n",
    "        if current in graph.keys():                    \n",
    "            for x in list(graph[current]):\n",
    "                if x not in visited.keys():\n",
    "                    q.append(x)\n",
    "                    visited[x] = True\n",
    "                    \n",
    "                if x in distances.keys():                        \n",
    "                    if distances[x] > distances[current] + 1:\n",
    "                        distances[x] = distances[current] + 1\n",
    "                        path[x] = path[current].copy()                     #saves path\n",
    "                        path[x].append(current)\n",
    "\n",
    "                \n",
    "    return path"
   ]
  },
  {
   "cell_type": "code",
   "execution_count": 24,
   "id": "d4e3e0f5-e881-4d8d-bfce-92d5dc6a410f",
   "metadata": {},
   "outputs": [],
   "source": [
    "def betweeness(a_graph, a_node):\n",
    "    users=[]                                                              #find users\n",
    "    for key in a_graph.keys():\n",
    "        users.append(list(a_graph[key].keys()))\n",
    "    users.append(list(a_graph.keys()))\n",
    "    users = set(list(itertools.chain.from_iterable(users)))\n",
    "    \n",
    "    paths = []\n",
    "    for user in users:                                                   #find all the shortest paths\n",
    "        a = s_path_1(a_graph, user, users)\n",
    "        for key in a.keys():\n",
    "            if a_node in a[key]:                                         #1 if our node is in path, 0 otherwise\n",
    "                paths.append(1)\n",
    "            else:\n",
    "                paths.append(0)\n",
    "        \n",
    "    return(sum(paths)/len(paths))                                        #shortest paths passing from our node/all shortest paths"
   ]
  },
  {
   "cell_type": "code",
   "execution_count": 63,
   "id": "102f0b43-d6b7-45c6-85b3-174dd22ae2a7",
   "metadata": {},
   "outputs": [],
   "source": [
    "def pagerank(a_graph, a_node):                                           #0.85 is the google damping factor\n",
    "    \n",
    "    users = []                                                            #find users\n",
    "    for key in a_graph.keys():\n",
    "        users.append(list(a_graph[key].keys()))\n",
    "    users.append(list(a_graph.keys()))\n",
    "    users = set(list(itertools.chain.from_iterable(users)))\n",
    "    users.remove(a_node)\n",
    "    \n",
    "    fac = 0\n",
    "    \n",
    "    for user in users:                                                   #finds parents and calcute pagerank\n",
    "        if user in a_graph.keys():\n",
    "            if a_node in a_graph[user].keys():\n",
    "                fac_1 = pagerank(a_graph, user)/len(a_graph[user])       #recursive\n",
    "                fac = fac_1 + fac\n",
    "    \n",
    "    return((1-0.85)/len(users)+0.85*fac)\n",
    "    "
   ]
  },
  {
   "cell_type": "code",
   "execution_count": 26,
   "id": "b5df606f-d841-4fb8-963e-836831815bac",
   "metadata": {},
   "outputs": [],
   "source": [
    "def closeness(a_graph, a_node):\n",
    "    users=[]                                                             #find users\n",
    "    for key in a_graph.keys():\n",
    "        users.append(list(a_graph[key].keys()))\n",
    "    users.append(list(a_graph.keys()))\n",
    "    users = set(list(itertools.chain.from_iterable(users)))\n",
    "    users.remove(a_node)\n",
    "    \n",
    "    distances = s_path(a_graph, a_node, users)\n",
    "    \n",
    "    sum_d = 0\n",
    "    for key in distances.keys():\n",
    "        sum_d = sum_d + distances[key]\n",
    "\n",
    "    return(len(users)/sum_d)                                              #n-1/sum of all shortest path from a_node to each user"
   ]
  },
  {
   "cell_type": "code",
   "execution_count": 27,
   "id": "a3ee3280-0147-40f1-bffa-96194abacecf",
   "metadata": {},
   "outputs": [],
   "source": [
    "def degreec(a_graph, a_node):    #it uses in-degree without taking count of the weigth (it makes more sense to me)\n",
    "    users=[]                      \n",
    "    for key in a_graph.keys():\n",
    "        users.append(list(a_graph[key].keys()))\n",
    "    users.append(list(a_graph.keys()))\n",
    "    users = set(list(itertools.chain.from_iterable(users)))           #find all users\n",
    "    users.remove(a_node)\n",
    "    \n",
    "    degreec= 0\n",
    "    \n",
    "    for user in users:\n",
    "        if user in a_graph.keys():                                    #find in-degree\n",
    "            if a_node in a_graph[user].keys():\n",
    "                degreec = degreec + 1\n",
    "                \n",
    "    return(degreec/len(users))"
   ]
  },
  {
   "cell_type": "code",
   "execution_count": 28,
   "id": "0d827e21-595b-4798-9f5a-2564b4dcd2c0",
   "metadata": {},
   "outputs": [],
   "source": [
    "def reduceGraph(graph, start_date, end_date):    #check all the dates and drop if not in range of time\n",
    "    a_graph = copy.deepcopy(graph)\n",
    "    start = int(time.mktime(datetime.datetime.strptime(start_date, \"%Y-%m-%d\").timetuple()))\n",
    "    end = int(time.mktime(datetime.datetime.strptime(end_date,\"%Y-%m-%d\").timetuple()))\n",
    "    for key in list(a_graph):\n",
    "        for key_ in list(a_graph[key]):\n",
    "            for i in range(len(a_graph[key][key_])):\n",
    "                if int(time.mktime(datetime.datetime.strptime(a_graph[key][key_][i], \"%Y-%m-%d\").timetuple())) > end:\n",
    "                    a_graph[key][key_][i] = 0\n",
    "                elif int(time.mktime(datetime.datetime.strptime(a_graph[key][key_][i], \"%Y-%m-%d\").timetuple())) < start:\n",
    "                    a_graph[key][key_][i] = 0\n",
    "            a_graph[key][key_] = list(filter(lambda num: num != 0, a_graph[key][key_]))\n",
    "    \n",
    "            if len(a_graph[key][key_]) == 0:   #drop keys if empty\n",
    "                a_graph[key].pop(key_)\n",
    "        if len(a_graph[key]) == 0:\n",
    "            a_graph.pop(key)\n",
    "            \n",
    "    return(a_graph)"
   ]
  },
  {
   "cell_type": "code",
   "execution_count": 29,
   "id": "5cfc4aad-6f29-406e-8395-c2036398014e",
   "metadata": {},
   "outputs": [],
   "source": [
    "def Functionality_2 (a_node, start_date, end_date, metric, a_graph = graph):\n",
    "    a_graph_1 = reduceGraph(a_graph, start_date, end_date)\n",
    "    if metric == 'Betweeness':\n",
    "        return(betweeness(a_graph_1, a_node))\n",
    "    if metric == 'PageRank':\n",
    "        return(pagerank(a_graph_1, a_node))\n",
    "    if metric == 'ClosenessCentrality':\n",
    "        return(closeness(a_graph_1, a_node))\n",
    "    if metric == 'DegreeCentrality':\n",
    "        return(degreec(a_graph_1, a_node))"
   ]
  },
  {
   "cell_type": "code",
   "execution_count": 30,
   "id": "537d2c90-d842-4ac3-8656-b1d47653c530",
   "metadata": {},
   "outputs": [
    {
     "data": {
      "text/plain": [
       "0.01779978103682672"
      ]
     },
     "execution_count": 30,
     "metadata": {},
     "output_type": "execute_result"
    }
   ],
   "source": [
    "Functionality_2(227411, \"2010-01-01\", \"2010-01-01\", 'Betweeness')"
   ]
  },
  {
   "cell_type": "code",
   "execution_count": 66,
   "id": "c3b3c8d6-1ac5-452c-a53e-9e4a89e46ba2",
   "metadata": {},
   "outputs": [
    {
     "ename": "RecursionError",
     "evalue": "maximum recursion depth exceeded in comparison",
     "output_type": "error",
     "traceback": [
      "\u001b[1;31m---------------------------------------------------------------------------\u001b[0m",
      "\u001b[1;31mRecursionError\u001b[0m                            Traceback (most recent call last)",
      "\u001b[1;32m<ipython-input-66-c5e5b01e4014>\u001b[0m in \u001b[0;36m<module>\u001b[1;34m\u001b[0m\n\u001b[1;32m----> 1\u001b[1;33m \u001b[0mFunctionality_2\u001b[0m\u001b[1;33m(\u001b[0m\u001b[1;36m4203\u001b[0m\u001b[1;33m,\u001b[0m \u001b[1;34m\"2010-01-01\"\u001b[0m\u001b[1;33m,\u001b[0m \u001b[1;34m\"2010-01-01\"\u001b[0m\u001b[1;33m,\u001b[0m \u001b[1;34m'PageRank'\u001b[0m\u001b[1;33m)\u001b[0m   \u001b[1;31m#doesn't work :( seems like there's a cycle\u001b[0m\u001b[1;33m\u001b[0m\u001b[1;33m\u001b[0m\u001b[0m\n\u001b[0m",
      "\u001b[1;32m<ipython-input-29-9a26a95f23ca>\u001b[0m in \u001b[0;36mFunctionality_2\u001b[1;34m(a_node, start_date, end_date, metric, a_graph)\u001b[0m\n\u001b[0;32m      4\u001b[0m         \u001b[1;32mreturn\u001b[0m\u001b[1;33m(\u001b[0m\u001b[0mbetweeness\u001b[0m\u001b[1;33m(\u001b[0m\u001b[0ma_graph_1\u001b[0m\u001b[1;33m,\u001b[0m \u001b[0ma_node\u001b[0m\u001b[1;33m)\u001b[0m\u001b[1;33m)\u001b[0m\u001b[1;33m\u001b[0m\u001b[1;33m\u001b[0m\u001b[0m\n\u001b[0;32m      5\u001b[0m     \u001b[1;32mif\u001b[0m \u001b[0mmetric\u001b[0m \u001b[1;33m==\u001b[0m \u001b[1;34m'PageRank'\u001b[0m\u001b[1;33m:\u001b[0m\u001b[1;33m\u001b[0m\u001b[1;33m\u001b[0m\u001b[0m\n\u001b[1;32m----> 6\u001b[1;33m         \u001b[1;32mreturn\u001b[0m\u001b[1;33m(\u001b[0m\u001b[0mpagerank\u001b[0m\u001b[1;33m(\u001b[0m\u001b[0ma_graph_1\u001b[0m\u001b[1;33m,\u001b[0m \u001b[0ma_node\u001b[0m\u001b[1;33m)\u001b[0m\u001b[1;33m)\u001b[0m\u001b[1;33m\u001b[0m\u001b[1;33m\u001b[0m\u001b[0m\n\u001b[0m\u001b[0;32m      7\u001b[0m     \u001b[1;32mif\u001b[0m \u001b[0mmetric\u001b[0m \u001b[1;33m==\u001b[0m \u001b[1;34m'ClosenessCentrality'\u001b[0m\u001b[1;33m:\u001b[0m\u001b[1;33m\u001b[0m\u001b[1;33m\u001b[0m\u001b[0m\n\u001b[0;32m      8\u001b[0m         \u001b[1;32mreturn\u001b[0m\u001b[1;33m(\u001b[0m\u001b[0mcloseness\u001b[0m\u001b[1;33m(\u001b[0m\u001b[0ma_graph_1\u001b[0m\u001b[1;33m,\u001b[0m \u001b[0ma_node\u001b[0m\u001b[1;33m)\u001b[0m\u001b[1;33m)\u001b[0m\u001b[1;33m\u001b[0m\u001b[1;33m\u001b[0m\u001b[0m\n",
      "\u001b[1;32m<ipython-input-63-53f1d21208f0>\u001b[0m in \u001b[0;36mpagerank\u001b[1;34m(a_graph, a_node)\u001b[0m\n\u001b[0;32m     13\u001b[0m         \u001b[1;32mif\u001b[0m \u001b[0muser\u001b[0m \u001b[1;32min\u001b[0m \u001b[0ma_graph\u001b[0m\u001b[1;33m.\u001b[0m\u001b[0mkeys\u001b[0m\u001b[1;33m(\u001b[0m\u001b[1;33m)\u001b[0m\u001b[1;33m:\u001b[0m\u001b[1;33m\u001b[0m\u001b[1;33m\u001b[0m\u001b[0m\n\u001b[0;32m     14\u001b[0m             \u001b[1;32mif\u001b[0m \u001b[0ma_node\u001b[0m \u001b[1;32min\u001b[0m \u001b[0ma_graph\u001b[0m\u001b[1;33m[\u001b[0m\u001b[0muser\u001b[0m\u001b[1;33m]\u001b[0m\u001b[1;33m.\u001b[0m\u001b[0mkeys\u001b[0m\u001b[1;33m(\u001b[0m\u001b[1;33m)\u001b[0m\u001b[1;33m:\u001b[0m\u001b[1;33m\u001b[0m\u001b[1;33m\u001b[0m\u001b[0m\n\u001b[1;32m---> 15\u001b[1;33m                 \u001b[0mfac_1\u001b[0m \u001b[1;33m=\u001b[0m \u001b[0mpagerank\u001b[0m\u001b[1;33m(\u001b[0m\u001b[0ma_graph\u001b[0m\u001b[1;33m,\u001b[0m \u001b[0muser\u001b[0m\u001b[1;33m)\u001b[0m\u001b[1;33m/\u001b[0m\u001b[0mlen\u001b[0m\u001b[1;33m(\u001b[0m\u001b[0ma_graph\u001b[0m\u001b[1;33m[\u001b[0m\u001b[0muser\u001b[0m\u001b[1;33m]\u001b[0m\u001b[1;33m)\u001b[0m       \u001b[1;31m#recursive\u001b[0m\u001b[1;33m\u001b[0m\u001b[1;33m\u001b[0m\u001b[0m\n\u001b[0m\u001b[0;32m     16\u001b[0m                 \u001b[0mfac\u001b[0m \u001b[1;33m=\u001b[0m \u001b[0mfac_1\u001b[0m \u001b[1;33m+\u001b[0m \u001b[0mfac\u001b[0m\u001b[1;33m\u001b[0m\u001b[1;33m\u001b[0m\u001b[0m\n\u001b[0;32m     17\u001b[0m \u001b[1;33m\u001b[0m\u001b[0m\n",
      "... last 1 frames repeated, from the frame below ...\n",
      "\u001b[1;32m<ipython-input-63-53f1d21208f0>\u001b[0m in \u001b[0;36mpagerank\u001b[1;34m(a_graph, a_node)\u001b[0m\n\u001b[0;32m     13\u001b[0m         \u001b[1;32mif\u001b[0m \u001b[0muser\u001b[0m \u001b[1;32min\u001b[0m \u001b[0ma_graph\u001b[0m\u001b[1;33m.\u001b[0m\u001b[0mkeys\u001b[0m\u001b[1;33m(\u001b[0m\u001b[1;33m)\u001b[0m\u001b[1;33m:\u001b[0m\u001b[1;33m\u001b[0m\u001b[1;33m\u001b[0m\u001b[0m\n\u001b[0;32m     14\u001b[0m             \u001b[1;32mif\u001b[0m \u001b[0ma_node\u001b[0m \u001b[1;32min\u001b[0m \u001b[0ma_graph\u001b[0m\u001b[1;33m[\u001b[0m\u001b[0muser\u001b[0m\u001b[1;33m]\u001b[0m\u001b[1;33m.\u001b[0m\u001b[0mkeys\u001b[0m\u001b[1;33m(\u001b[0m\u001b[1;33m)\u001b[0m\u001b[1;33m:\u001b[0m\u001b[1;33m\u001b[0m\u001b[1;33m\u001b[0m\u001b[0m\n\u001b[1;32m---> 15\u001b[1;33m                 \u001b[0mfac_1\u001b[0m \u001b[1;33m=\u001b[0m \u001b[0mpagerank\u001b[0m\u001b[1;33m(\u001b[0m\u001b[0ma_graph\u001b[0m\u001b[1;33m,\u001b[0m \u001b[0muser\u001b[0m\u001b[1;33m)\u001b[0m\u001b[1;33m/\u001b[0m\u001b[0mlen\u001b[0m\u001b[1;33m(\u001b[0m\u001b[0ma_graph\u001b[0m\u001b[1;33m[\u001b[0m\u001b[0muser\u001b[0m\u001b[1;33m]\u001b[0m\u001b[1;33m)\u001b[0m       \u001b[1;31m#recursive\u001b[0m\u001b[1;33m\u001b[0m\u001b[1;33m\u001b[0m\u001b[0m\n\u001b[0m\u001b[0;32m     16\u001b[0m                 \u001b[0mfac\u001b[0m \u001b[1;33m=\u001b[0m \u001b[0mfac_1\u001b[0m \u001b[1;33m+\u001b[0m \u001b[0mfac\u001b[0m\u001b[1;33m\u001b[0m\u001b[1;33m\u001b[0m\u001b[0m\n\u001b[0;32m     17\u001b[0m \u001b[1;33m\u001b[0m\u001b[0m\n",
      "\u001b[1;31mRecursionError\u001b[0m: maximum recursion depth exceeded in comparison"
     ]
    }
   ],
   "source": [
    "Functionality_2(227411, \"2010-01-01\", \"2010-01-01\", 'PageRank')   #doesn't work :( seems like there's a cycle"
   ]
  },
  {
   "cell_type": "code",
   "execution_count": 32,
   "id": "f8727e4a-7a03-4146-99ba-8a8f0ce57ba5",
   "metadata": {},
   "outputs": [
    {
     "data": {
      "text/plain": [
       "0.31456466497258256"
      ]
     },
     "execution_count": 32,
     "metadata": {},
     "output_type": "execute_result"
    }
   ],
   "source": [
    "Functionality_2(227411, \"2010-01-01\", \"2010-01-01\", 'ClosenessCentrality')"
   ]
  },
  {
   "cell_type": "code",
   "execution_count": 33,
   "id": "40b3d894-94bf-4ea5-bbad-cf386a96d6a5",
   "metadata": {},
   "outputs": [
    {
     "data": {
      "text/plain": [
       "0.0012755102040816326"
      ]
     },
     "execution_count": 33,
     "metadata": {},
     "output_type": "execute_result"
    }
   ],
   "source": [
    "Functionality_2(227411, \"2010-01-01\", \"2010-01-01\", 'DegreeCentrality')"
   ]
  },
  {
   "cell_type": "code",
   "execution_count": null,
   "id": "214152e6-a640-4e5e-8410-8d2364d89796",
   "metadata": {},
   "outputs": [],
   "source": []
  },
  {
   "cell_type": "markdown",
   "id": "2601754f-03f9-4447-b753-7ef3b50bc1bf",
   "metadata": {},
   "source": [
    "### Functionality 3 - Shortest Ordered Route"
   ]
  },
  {
   "cell_type": "markdown",
   "id": "e369e72e-0966-4def-aed0-895ba81ab3da",
   "metadata": {},
   "source": [
    "### Functionality 4 - Disconnecting graphs"
   ]
  },
  {
   "cell_type": "markdown",
   "id": "3f31d292-a1a1-43cf-baa0-6b5ec3009fee",
   "metadata": {},
   "source": [
    "# 3. Implementation of the frontend"
   ]
  },
  {
   "cell_type": "markdown",
   "id": "2b8ea7f1",
   "metadata": {},
   "source": [
    "### Visualization 1 - Visualize the overall features of the graph"
   ]
  },
  {
   "cell_type": "code",
   "execution_count": 34,
   "id": "d208b4ca",
   "metadata": {},
   "outputs": [],
   "source": [
    "def Visualization_1(a_graph):\n",
    "    info = pd.DataFrame.from_dict(Functionality_1(a_graph), orient='index', columns = [\"Graph property\"])\n",
    "    display(info)\n",
    "    degree = [] #degrees af all nodes\n",
    "    for key in a_graph.keys(): #iterating through nodes to obtain degrees\n",
    "        n = 0\n",
    "        for key_ in a_graph[key].keys():\n",
    "            n = n + len(a_graph[key][key_])\n",
    "        if directed(a_graph) == 'indirected':\n",
    "            n = n/2\n",
    "        degree.append(n)\n",
    "    #plt.hist(degree, bins = 200)\n",
    "    fig, axs = plt.subplots(1, 2,figsize=(20,5))\n",
    "    fig.suptitle('Distribution of nodes degrees')\n",
    "    axs[0].hist(degree, bins = 200)\n",
    "    axs[0].set_title('All degree values')\n",
    "    axs[1].hist(degree, bins = 200, range = (0,60))\n",
    "    axs[1].set_title('Most frequant degree values')"
   ]
  },
  {
   "cell_type": "code",
   "execution_count": 35,
   "id": "add3acaa",
   "metadata": {},
   "outputs": [
    {
     "data": {
      "text/html": [
       "<div>\n",
       "<style scoped>\n",
       "    .dataframe tbody tr th:only-of-type {\n",
       "        vertical-align: middle;\n",
       "    }\n",
       "\n",
       "    .dataframe tbody tr th {\n",
       "        vertical-align: top;\n",
       "    }\n",
       "\n",
       "    .dataframe thead th {\n",
       "        text-align: right;\n",
       "    }\n",
       "</style>\n",
       "<table border=\"1\" class=\"dataframe\">\n",
       "  <thead>\n",
       "    <tr style=\"text-align: right;\">\n",
       "      <th></th>\n",
       "      <th>Graph property</th>\n",
       "    </tr>\n",
       "  </thead>\n",
       "  <tbody>\n",
       "    <tr>\n",
       "      <th>directed</th>\n",
       "      <td>directed</td>\n",
       "    </tr>\n",
       "    <tr>\n",
       "      <th>n_users</th>\n",
       "      <td>220685</td>\n",
       "    </tr>\n",
       "    <tr>\n",
       "      <th>n_answers_comments</th>\n",
       "      <td>1444706</td>\n",
       "    </tr>\n",
       "    <tr>\n",
       "      <th>avg_n_links</th>\n",
       "      <td>6.546462</td>\n",
       "    </tr>\n",
       "    <tr>\n",
       "      <th>density</th>\n",
       "      <td>0.00003</td>\n",
       "    </tr>\n",
       "    <tr>\n",
       "      <th>sparse</th>\n",
       "      <td>sparse</td>\n",
       "    </tr>\n",
       "  </tbody>\n",
       "</table>\n",
       "</div>"
      ],
      "text/plain": [
       "                   Graph property\n",
       "directed                 directed\n",
       "n_users                    220685\n",
       "n_answers_comments        1444706\n",
       "avg_n_links              6.546462\n",
       "density                   0.00003\n",
       "sparse                     sparse"
      ]
     },
     "metadata": {},
     "output_type": "display_data"
    },
    {
     "data": {
      "image/png": "[encoded data removed]",
      "text/plain": [
       "<Figure size 1440x360 with 2 Axes>"
      ]
     },
     "metadata": {
      "needs_background": "light"
     },
     "output_type": "display_data"
    }
   ],
   "source": [
    "Visualization_1(answers_to_questions_graph)"
   ]
  },
  {
   "cell_type": "markdown",
   "id": "d94da821-bfd8-46ab-95bd-a3cd2afc6f40",
   "metadata": {},
   "source": [
    "# 4. Algorithmic question"
   ]
  },
  {
   "cell_type": "markdown",
   "id": "fc0388f0-7d4b-45d9-a8d2-1455ffb976c4",
   "metadata": {},
   "source": [
    "A number n of kids are in a camp. Between some k pairs of them (a kid can be part of more than one pairs) there are often fights. At night there are two dormitories where the kids can sleep. We want, if possible, to assign each kid in one of the two dormitories in such a way that each pair of kids that fights often is assigned to a different dormitory. (There are no space problems and the two dormitories can have different number of kids.)\n",
    "\n",
    "Give an algorithm that is linear in n and k that is able to answer whether such an assignment is possible and, if so, return one.\n",
    "\n"
   ]
  },
  {
   "cell_type": "markdown",
   "id": "d96fbf03-a816-44fb-913a-7fdcf5fde103",
   "metadata": {},
   "source": [
    "As an input we have $k$ pairs of child that fight and n name all of children. Let's treat $n$ names of children as $n$ nodes  of graph and $k$ pairs as pairs of nodes which connected by edges. This will be our graph G. Then the question \"if it is possible, to assign each kid in one of the two dormitories in such a way that each pair of kids that fights often is assigned to a different dormitory\" is equal to the question \"is it possible to assign to each noed of graph G value of 1 or 0, so that every two connected nodes have diffrent values\". To check it, we can run DFS from each node, but each time when we will go to the nodes connected to the previous node ($v$) we will assign them another value than have $v$. If the node already has assigned colur and it's equal to value of $v$, than the answer is impossible. If we are able to finish DFS from each node without such situation, than its possible, as we have assign 0 and 1 values to all nodes, and every node connected to nodes with different values. Let's implement the algorithm."
   ]
  },
  {
   "cell_type": "code",
   "execution_count": 36,
   "id": "45035927-732c-40e9-bf11-01d517b9cc41",
   "metadata": {},
   "outputs": [],
   "source": [
    "#typical DFS function, except we assing the opposite values to connected nodes\n",
    "def DFS_value(i, adj, visit, val, t):\n",
    "    visit[i] = 1 #now this node is visited\n",
    "    for j in adj[i]: #for all connected with i nodes\n",
    "        if val[j] == None:    #if value for connector node is not defined,\n",
    "            val[j] = 1 - val[i]   #we assigned the opposite to connected node\n",
    "        else:\n",
    "            if val[j] == val[i]:  #if color already defined and the same as connected node's\n",
    "                t = False         #t sets to False\n",
    "        if visit[j] == 0: #if one of connected node is not visited, visit her\n",
    "            DFS_value(j, adj, visit, val,t)    \n",
    "    return t\n",
    "\n",
    "def check_do(N, k):\n",
    "    adj = [[] for i in range(N)] #adjacancy list\n",
    "    visit = [0 for i in range(N)] #array for DFS, indicates whether we already done it for ith node\n",
    "    val = [None for i in range(N)] #array for values of nodes\n",
    "    t = True #boolean variable inficating whether it's possible or not\n",
    "    #for each pair in k pairs create edge between one elemet of pair to another\n",
    "    for i in range(len(k)):\n",
    "        a, b = k[i]\n",
    "        adj[a].append(b)\n",
    "        adj[b].append(a)\n",
    "        \n",
    "    #doing DFS with assigning values for all N nodes:\n",
    "    for i in range(N):\n",
    "        if visit[i] == 0:\n",
    "            #in the befinnig we can assign any value to the node that was not connected to anything before \n",
    "            val[i] = 0\n",
    "            #doing DFS for unvisited node\n",
    "            t = DFS_value(i, adj, visit,  val, t)\n",
    "    #if t is True then it's possible, otherwise not\n",
    "    if t == True:\n",
    "        print(\"It's possible\")\n",
    "        for i in range(N):\n",
    "            print(f\"Child number\", i+1, \"should live in\", val[i]+1, \"dormitary\")\n",
    "    else: \n",
    "        print(\"It's not possible\")"
   ]
  },
  {
   "cell_type": "markdown",
   "id": "b9b81ddf-caa8-41f8-87b7-582f542584d0",
   "metadata": {},
   "source": [
    "Let's try our algorithm"
   ]
  },
  {
   "cell_type": "code",
   "execution_count": 37,
   "id": "a6a92341-273a-4db5-94b8-11295f3364bb",
   "metadata": {},
   "outputs": [
    {
     "name": "stdout",
     "output_type": "stream",
     "text": [
      "It's possible\n",
      "Child number 1 should live in 1 dormitary\n",
      "Child number 2 should live in 1 dormitary\n",
      "Child number 3 should live in 2 dormitary\n",
      "Child number 4 should live in 1 dormitary\n",
      "Child number 5 should live in 1 dormitary\n",
      "Child number 6 should live in 2 dormitary\n",
      "Child number 7 should live in 1 dormitary\n",
      "Child number 8 should live in 1 dormitary\n",
      "Child number 9 should live in 1 dormitary\n",
      "Child number 10 should live in 1 dormitary\n"
     ]
    }
   ],
   "source": [
    "N = 10\n",
    "k = [(1,2), (4, 5)]  #pairs of fightning children\n",
    "check_do(N,k)"
   ]
  },
  {
   "cell_type": "code",
   "execution_count": 38,
   "id": "0fcdd680-3dd5-48a9-bbe1-d8b611be4990",
   "metadata": {},
   "outputs": [
    {
     "name": "stdout",
     "output_type": "stream",
     "text": [
      "It's not possible\n"
     ]
    }
   ],
   "source": [
    "N = 10\n",
    "k = [(1,2), (2,3), (3, 1), (4, 5)]\n",
    "check_do(N,k)"
   ]
  },
  {
   "cell_type": "markdown",
   "id": "9167be51-a153-4730-bba0-3eaae2471f46",
   "metadata": {},
   "source": [
    "### It works! For how long? \n",
    "First step to create adj list from k pairs it takes $O(2*k)$, as for each k pair we add element to two nodes' lists. Then we start to run DFS_value for all nodes. As we run it only if we haven't previously run it for this node (visit = 0), then we run DFS_value one time for each node, that adds O(N) (DFS, excludes recurcive calls takes O(1)). So the total complexity is O(N+k), which is linear of N and k."
   ]
  }
 ],
 "metadata": {
  "kernelspec": {
   "display_name": "Python 3",
   "language": "python",
   "name": "python3"
  },
  "language_info": {
   "codemirror_mode": {
    "name": "ipython",
    "version": 3
   },
   "file_extension": ".py",
   "mimetype": "text/x-python",
   "name": "python",
   "nbconvert_exporter": "python",
   "pygments_lexer": "ipython3",
   "version": "3.8.8"
  }
 },
 "nbformat": 4,
 "nbformat_minor": 5
}
