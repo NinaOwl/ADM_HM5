{
 "cells": [
  {
   "cell_type": "markdown",
   "id": "4466944a",
   "metadata": {},
   "source": [
    "### 4. Algorithmic question\n",
    "A number n of kids are in a camp. Between some k pairs of them (a kid can be part of more than one pairs) there are often fights. At night there are two dormitories where the kids can sleep. We want, if possible, to assign each kid in one of the two dormitories in such a way that each pair of kids that fights often is assigned to a different dormitory. (There are no space problems and the two dormitories can have different number of kids.)\n",
    "\n",
    "Give an algorithm that is linear in n and k that is able to answer whether such an assignment is possible and, if so, return one."
   ]
  },
  {
   "cell_type": "markdown",
   "id": "ab151b92",
   "metadata": {},
   "source": [
    "As an input we have $k$ pairs of child that fight and n name all of children. Let's treat $n$ names of children as $n$ nodes  of graph and $k$ pairs as pairs of nodes which connected by edges. This will be our graph G. Then the question \"if it is possible, to assign each kid in one of the two dormitories in such a way that each pair of kids that fights often is assigned to a different dormitory\" is equal to the question \"is it possible to assign to each noed of graph G value of 1 or 0, so that every two connected nodes have diffrent values\". To check it, we can run DFS from each node, but each time when we will go to the nodes connected to the previous node ($v$) we will assign them another value than have $v$. If the node already has assigned colur and it's equal to value of $v$, than the answer is impossible. If we are able to finish DFS from each node without such situation, than its possible, as we have assign 0 and 1 values to all nodes, and every node connected to nodes with different values. Let's implement the algorithm."
   ]
  },
  {
   "cell_type": "code",
   "execution_count": 5,
   "id": "b8944846",
   "metadata": {},
   "outputs": [],
   "source": [
    "#typical DFS function, except we assing the opposite values to connected nodes\n",
    "def DFS_value(i, adj, visit, val, t):\n",
    "    visit[i] = 1 #now this node is visited\n",
    "    for j in adj[i]: #for all connected with i nodes\n",
    "        if val[j] == None:    #if value for connector node is not defined,\n",
    "            val[j] = 1 - val[i]   #we assigned the opposite to connected node\n",
    "        else:\n",
    "            if val[j] == val[i]:  #if color already defined and the same as connected node's\n",
    "                t = False         #t sets to False\n",
    "        if visit[j] == 0: #if one of connected node is not visited, visit her\n",
    "            DFS_value(j, adj, visit, val,t)    \n",
    "    return t\n",
    "\n",
    "def check(N, k):\n",
    "    adj = [[] for i in range(N)] #adjacancy list\n",
    "    visit = [0 for i in range(N)] #array for DFS, indicates whether we already done it for ith node\n",
    "    val = [None for i in range(N)] #array for values of nodes\n",
    "    t = True #boolean variable inficating whether it's possible or not\n",
    "    #for each pair in k pairs create edge between one elemet of pair to another\n",
    "    for i in range(len(k)):\n",
    "        a, b = k[i]\n",
    "        adj[a].append(b)\n",
    "        adj[b].append(a)\n",
    "        \n",
    "    #doing DFS with assigning values for all N nodes:\n",
    "    for i in range(N):\n",
    "        if visit[i] == 0:\n",
    "            #in the befinnig we can assign any value to the node that was not connected to anything before \n",
    "            val[i] = 0\n",
    "            #doing DFS for unvisited node\n",
    "            t = DFS_value(i, adj, visit,  val, t)\n",
    "    #if t is True then it's possible, otherwise not\n",
    "    if t == True:\n",
    "        print(\"It's possible\")\n",
    "        for i in range(N):\n",
    "            print(f\"Child number\", i+1, \"should live in\", val[i]+1, \"dormitary\")\n",
    "    else: \n",
    "        print(\"It's not possible\")"
   ]
  },
  {
   "cell_type": "markdown",
   "id": "fb41e3bb",
   "metadata": {},
   "source": [
    "Let's try our algorithm"
   ]
  },
  {
   "cell_type": "code",
   "execution_count": 6,
   "id": "1ed33b01",
   "metadata": {},
   "outputs": [
    {
     "name": "stdout",
     "output_type": "stream",
     "text": [
      "It's possible\n",
      "Child number 1 should live in 1 dormitary\n",
      "Child number 2 should live in 1 dormitary\n",
      "Child number 3 should live in 2 dormitary\n",
      "Child number 4 should live in 1 dormitary\n",
      "Child number 5 should live in 1 dormitary\n",
      "Child number 6 should live in 2 dormitary\n",
      "Child number 7 should live in 1 dormitary\n",
      "Child number 8 should live in 1 dormitary\n",
      "Child number 9 should live in 1 dormitary\n",
      "Child number 10 should live in 1 dormitary\n"
     ]
    }
   ],
   "source": [
    "N = 10\n",
    "k = [(1,2), (4, 5)]  #pairs of fightning children\n",
    "check(N,k)"
   ]
  },
  {
   "cell_type": "code",
   "execution_count": 7,
   "id": "c4ceaa9a",
   "metadata": {},
   "outputs": [
    {
     "name": "stdout",
     "output_type": "stream",
     "text": [
      "It's not possible\n"
     ]
    }
   ],
   "source": [
    "N = 10\n",
    "k = [(1,2), (2,3), (3, 1), (4, 5)]\n",
    "check(N,k)"
   ]
  },
  {
   "cell_type": "markdown",
   "id": "3902805a",
   "metadata": {},
   "source": [
    "### It works! For how long? \n",
    "First step to create adj list from k pairs it takes $O(2*k)$, as for each k pair we add element to two nodes' lists. Then we start to run DFS_value for all nodes. As we run it only if we haven't previously run it for this node (visit = 0), then we run DFS_value one time for each node, that adds O(N) (DFS, excludes recurcive calls takes O(1)). So the total complexity is O(N+k), which is linear of N and k."
   ]
  },
  {
   "cell_type": "code",
   "execution_count": null,
   "id": "29738bac",
   "metadata": {},
   "outputs": [],
   "source": []
  }
 ],
 "metadata": {
  "kernelspec": {
   "display_name": "Python 3 (ipykernel)",
   "language": "python",
   "name": "python3"
  },
  "language_info": {
   "codemirror_mode": {
    "name": "ipython",
    "version": 3
   },
   "file_extension": ".py",
   "mimetype": "text/x-python",
   "name": "python",
   "nbconvert_exporter": "python",
   "pygments_lexer": "ipython3",
   "version": "3.9.7"
  }
 },
 "nbformat": 4,
 "nbformat_minor": 5
}
